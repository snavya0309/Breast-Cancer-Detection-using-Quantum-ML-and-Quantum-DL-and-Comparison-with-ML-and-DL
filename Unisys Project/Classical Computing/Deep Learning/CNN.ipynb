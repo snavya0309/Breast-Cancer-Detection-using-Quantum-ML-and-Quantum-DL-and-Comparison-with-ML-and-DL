{
  "cells": [
    {
      "cell_type": "code",
      "execution_count": null,
      "metadata": {
        "colab": {
          "base_uri": "https://localhost:8080/"
        },
        "id": "jKAeCYggMPkk",
        "outputId": "cdca5e69-159b-410f-e184-574af4610c55"
      },
      "outputs": [
        {
          "name": "stdout",
          "output_type": "stream",
          "text": [
            "Looking in indexes: https://pypi.org/simple, https://us-python.pkg.dev/colab-wheels/public/simple/\n",
            "Requirement already satisfied: tensorflow in /usr/local/lib/python3.8/dist-packages (2.11.0)\n",
            "Requirement already satisfied: setuptools in /usr/local/lib/python3.8/dist-packages (from tensorflow) (57.4.0)\n",
            "Requirement already satisfied: tensorflow-estimator<2.12,>=2.11.0 in /usr/local/lib/python3.8/dist-packages (from tensorflow) (2.11.0)\n",
            "Requirement already satisfied: typing-extensions>=3.6.6 in /usr/local/lib/python3.8/dist-packages (from tensorflow) (4.4.0)\n",
            "Requirement already satisfied: absl-py>=1.0.0 in /usr/local/lib/python3.8/dist-packages (from tensorflow) (1.4.0)\n",
            "Requirement already satisfied: libclang>=13.0.0 in /usr/local/lib/python3.8/dist-packages (from tensorflow) (15.0.6.1)\n",
            "Requirement already satisfied: flatbuffers>=2.0 in /usr/local/lib/python3.8/dist-packages (from tensorflow) (23.1.21)\n",
            "Requirement already satisfied: astunparse>=1.6.0 in /usr/local/lib/python3.8/dist-packages (from tensorflow) (1.6.3)\n",
            "Requirement already satisfied: numpy>=1.20 in /usr/local/lib/python3.8/dist-packages (from tensorflow) (1.21.6)\n",
            "Requirement already satisfied: h5py>=2.9.0 in /usr/local/lib/python3.8/dist-packages (from tensorflow) (3.1.0)\n",
            "Requirement already satisfied: tensorflow-io-gcs-filesystem>=0.23.1 in /usr/local/lib/python3.8/dist-packages (from tensorflow) (0.30.0)\n",
            "Requirement already satisfied: gast<=0.4.0,>=0.2.1 in /usr/local/lib/python3.8/dist-packages (from tensorflow) (0.4.0)\n",
            "Requirement already satisfied: google-pasta>=0.1.1 in /usr/local/lib/python3.8/dist-packages (from tensorflow) (0.2.0)\n",
            "Requirement already satisfied: termcolor>=1.1.0 in /usr/local/lib/python3.8/dist-packages (from tensorflow) (2.2.0)\n",
            "Requirement already satisfied: opt-einsum>=2.3.2 in /usr/local/lib/python3.8/dist-packages (from tensorflow) (3.3.0)\n",
            "Requirement already satisfied: grpcio<2.0,>=1.24.3 in /usr/local/lib/python3.8/dist-packages (from tensorflow) (1.51.1)\n",
            "Requirement already satisfied: protobuf<3.20,>=3.9.2 in /usr/local/lib/python3.8/dist-packages (from tensorflow) (3.19.6)\n",
            "Requirement already satisfied: six>=1.12.0 in /usr/local/lib/python3.8/dist-packages (from tensorflow) (1.15.0)\n",
            "Requirement already satisfied: keras<2.12,>=2.11.0 in /usr/local/lib/python3.8/dist-packages (from tensorflow) (2.11.0)\n",
            "Requirement already satisfied: tensorboard<2.12,>=2.11 in /usr/local/lib/python3.8/dist-packages (from tensorflow) (2.11.2)\n",
            "Requirement already satisfied: packaging in /usr/local/lib/python3.8/dist-packages (from tensorflow) (23.0)\n",
            "Requirement already satisfied: wrapt>=1.11.0 in /usr/local/lib/python3.8/dist-packages (from tensorflow) (1.14.1)\n",
            "Requirement already satisfied: wheel<1.0,>=0.23.0 in /usr/local/lib/python3.8/dist-packages (from astunparse>=1.6.0->tensorflow) (0.38.4)\n",
            "Requirement already satisfied: google-auth-oauthlib<0.5,>=0.4.1 in /usr/local/lib/python3.8/dist-packages (from tensorboard<2.12,>=2.11->tensorflow) (0.4.6)\n",
            "Requirement already satisfied: markdown>=2.6.8 in /usr/local/lib/python3.8/dist-packages (from tensorboard<2.12,>=2.11->tensorflow) (3.4.1)\n",
            "Requirement already satisfied: tensorboard-data-server<0.7.0,>=0.6.0 in /usr/local/lib/python3.8/dist-packages (from tensorboard<2.12,>=2.11->tensorflow) (0.6.1)\n",
            "Requirement already satisfied: werkzeug>=1.0.1 in /usr/local/lib/python3.8/dist-packages (from tensorboard<2.12,>=2.11->tensorflow) (1.0.1)\n",
            "Requirement already satisfied: requests<3,>=2.21.0 in /usr/local/lib/python3.8/dist-packages (from tensorboard<2.12,>=2.11->tensorflow) (2.25.1)\n",
            "Requirement already satisfied: tensorboard-plugin-wit>=1.6.0 in /usr/local/lib/python3.8/dist-packages (from tensorboard<2.12,>=2.11->tensorflow) (1.8.1)\n",
            "Requirement already satisfied: google-auth<3,>=1.6.3 in /usr/local/lib/python3.8/dist-packages (from tensorboard<2.12,>=2.11->tensorflow) (2.16.0)\n",
            "Requirement already satisfied: cachetools<6.0,>=2.0.0 in /usr/local/lib/python3.8/dist-packages (from google-auth<3,>=1.6.3->tensorboard<2.12,>=2.11->tensorflow) (5.3.0)\n",
            "Requirement already satisfied: rsa<5,>=3.1.4 in /usr/local/lib/python3.8/dist-packages (from google-auth<3,>=1.6.3->tensorboard<2.12,>=2.11->tensorflow) (4.9)\n",
            "Requirement already satisfied: pyasn1-modules>=0.2.1 in /usr/local/lib/python3.8/dist-packages (from google-auth<3,>=1.6.3->tensorboard<2.12,>=2.11->tensorflow) (0.2.8)\n",
            "Requirement already satisfied: requests-oauthlib>=0.7.0 in /usr/local/lib/python3.8/dist-packages (from google-auth-oauthlib<0.5,>=0.4.1->tensorboard<2.12,>=2.11->tensorflow) (1.3.1)\n",
            "Requirement already satisfied: importlib-metadata>=4.4 in /usr/local/lib/python3.8/dist-packages (from markdown>=2.6.8->tensorboard<2.12,>=2.11->tensorflow) (6.0.0)\n",
            "Requirement already satisfied: idna<3,>=2.5 in /usr/local/lib/python3.8/dist-packages (from requests<3,>=2.21.0->tensorboard<2.12,>=2.11->tensorflow) (2.10)\n",
            "Requirement already satisfied: chardet<5,>=3.0.2 in /usr/local/lib/python3.8/dist-packages (from requests<3,>=2.21.0->tensorboard<2.12,>=2.11->tensorflow) (4.0.0)\n",
            "Requirement already satisfied: urllib3<1.27,>=1.21.1 in /usr/local/lib/python3.8/dist-packages (from requests<3,>=2.21.0->tensorboard<2.12,>=2.11->tensorflow) (1.24.3)\n",
            "Requirement already satisfied: certifi>=2017.4.17 in /usr/local/lib/python3.8/dist-packages (from requests<3,>=2.21.0->tensorboard<2.12,>=2.11->tensorflow) (2022.12.7)\n",
            "Requirement already satisfied: zipp>=0.5 in /usr/local/lib/python3.8/dist-packages (from importlib-metadata>=4.4->markdown>=2.6.8->tensorboard<2.12,>=2.11->tensorflow) (3.12.1)\n",
            "Requirement already satisfied: pyasn1<0.5.0,>=0.4.6 in /usr/local/lib/python3.8/dist-packages (from pyasn1-modules>=0.2.1->google-auth<3,>=1.6.3->tensorboard<2.12,>=2.11->tensorflow) (0.4.8)\n",
            "Requirement already satisfied: oauthlib>=3.0.0 in /usr/local/lib/python3.8/dist-packages (from requests-oauthlib>=0.7.0->google-auth-oauthlib<0.5,>=0.4.1->tensorboard<2.12,>=2.11->tensorflow) (3.2.2)\n"
          ]
        }
      ],
      "source": [
        "pip install tensorflow"
      ]
    },
    {
      "cell_type": "code",
      "execution_count": null,
      "metadata": {
        "colab": {
          "base_uri": "https://localhost:8080/"
        },
        "id": "ejQoNOhwMWIv",
        "outputId": "08ede531-bf9e-43bc-e57b-8375b55dc2c9"
      },
      "outputs": [
        {
          "name": "stdout",
          "output_type": "stream",
          "text": [
            "2.11.0\n"
          ]
        }
      ],
      "source": [
        "import tensorflow as tf\n",
        "from tensorflow import keras\n",
        "from tensorflow.keras import Sequential\n",
        "from tensorflow.keras.layers import Flatten, Dense, Dropout, BatchNormalization\n",
        "from tensorflow.keras.layers import Conv1D, MaxPool1D\n",
        "\n",
        "from tensorflow.keras.optimizers import Adam\n",
        "\n",
        "\n",
        "print(tf.__version__)"
      ]
    },
    {
      "cell_type": "code",
      "execution_count": null,
      "metadata": {
        "id": "3-6ULUQAOWA-"
      },
      "outputs": [],
      "source": [
        "import pandas as pd\n",
        "import numpy as np\n",
        "import  seaborn as sns\n",
        "import matplotlib.pyplot as plt"
      ]
    },
    {
      "cell_type": "code",
      "execution_count": null,
      "metadata": {
        "id": "xHjKdjlaOafr"
      },
      "outputs": [],
      "source": [
        "from sklearn import datasets, metrics\n",
        "from sklearn.model_selection import train_test_split\n",
        "from sklearn.preprocessing import StandardScaler"
      ]
    },
    {
      "cell_type": "code",
      "execution_count": null,
      "metadata": {
        "id": "4oJtj5HLOiQp"
      },
      "outputs": [],
      "source": [
        "cancer_df = pd.read_csv(\"/content/data.csv\")"
      ]
    },
    {
      "cell_type": "code",
      "execution_count": null,
      "metadata": {
        "colab": {
          "base_uri": "https://localhost:8080/",
          "height": 317
        },
        "id": "7vHjNpRWOoFV",
        "outputId": "05dab9b9-37c9-40e6-a8c5-1a7957ef3841"
      },
      "outputs": [
        {
          "data": {
            "text/html": [
              "\n",
              "  <div id=\"df-d3fab675-ac31-4bd2-b9bd-c13277a025fc\">\n",
              "    <div class=\"colab-df-container\">\n",
              "      <div>\n",
              "<style scoped>\n",
              "    .dataframe tbody tr th:only-of-type {\n",
              "        vertical-align: middle;\n",
              "    }\n",
              "\n",
              "    .dataframe tbody tr th {\n",
              "        vertical-align: top;\n",
              "    }\n",
              "\n",
              "    .dataframe thead th {\n",
              "        text-align: right;\n",
              "    }\n",
              "</style>\n",
              "<table border=\"1\" class=\"dataframe\">\n",
              "  <thead>\n",
              "    <tr style=\"text-align: right;\">\n",
              "      <th></th>\n",
              "      <th>id</th>\n",
              "      <th>diagnosis</th>\n",
              "      <th>radius_mean</th>\n",
              "      <th>texture_mean</th>\n",
              "      <th>perimeter_mean</th>\n",
              "      <th>area_mean</th>\n",
              "      <th>smoothness_mean</th>\n",
              "      <th>compactness_mean</th>\n",
              "      <th>concavity_mean</th>\n",
              "      <th>concave points_mean</th>\n",
              "      <th>...</th>\n",
              "      <th>texture_worst</th>\n",
              "      <th>perimeter_worst</th>\n",
              "      <th>area_worst</th>\n",
              "      <th>smoothness_worst</th>\n",
              "      <th>compactness_worst</th>\n",
              "      <th>concavity_worst</th>\n",
              "      <th>concave points_worst</th>\n",
              "      <th>symmetry_worst</th>\n",
              "      <th>fractal_dimension_worst</th>\n",
              "      <th>Unnamed: 32</th>\n",
              "    </tr>\n",
              "  </thead>\n",
              "  <tbody>\n",
              "    <tr>\n",
              "      <th>0</th>\n",
              "      <td>842302</td>\n",
              "      <td>M</td>\n",
              "      <td>17.99</td>\n",
              "      <td>10.38</td>\n",
              "      <td>122.80</td>\n",
              "      <td>1001.0</td>\n",
              "      <td>0.11840</td>\n",
              "      <td>0.27760</td>\n",
              "      <td>0.3001</td>\n",
              "      <td>0.14710</td>\n",
              "      <td>...</td>\n",
              "      <td>17.33</td>\n",
              "      <td>184.60</td>\n",
              "      <td>2019.0</td>\n",
              "      <td>0.1622</td>\n",
              "      <td>0.6656</td>\n",
              "      <td>0.7119</td>\n",
              "      <td>0.2654</td>\n",
              "      <td>0.4601</td>\n",
              "      <td>0.11890</td>\n",
              "      <td>NaN</td>\n",
              "    </tr>\n",
              "    <tr>\n",
              "      <th>1</th>\n",
              "      <td>842517</td>\n",
              "      <td>M</td>\n",
              "      <td>20.57</td>\n",
              "      <td>17.77</td>\n",
              "      <td>132.90</td>\n",
              "      <td>1326.0</td>\n",
              "      <td>0.08474</td>\n",
              "      <td>0.07864</td>\n",
              "      <td>0.0869</td>\n",
              "      <td>0.07017</td>\n",
              "      <td>...</td>\n",
              "      <td>23.41</td>\n",
              "      <td>158.80</td>\n",
              "      <td>1956.0</td>\n",
              "      <td>0.1238</td>\n",
              "      <td>0.1866</td>\n",
              "      <td>0.2416</td>\n",
              "      <td>0.1860</td>\n",
              "      <td>0.2750</td>\n",
              "      <td>0.08902</td>\n",
              "      <td>NaN</td>\n",
              "    </tr>\n",
              "    <tr>\n",
              "      <th>2</th>\n",
              "      <td>84300903</td>\n",
              "      <td>M</td>\n",
              "      <td>19.69</td>\n",
              "      <td>21.25</td>\n",
              "      <td>130.00</td>\n",
              "      <td>1203.0</td>\n",
              "      <td>0.10960</td>\n",
              "      <td>0.15990</td>\n",
              "      <td>0.1974</td>\n",
              "      <td>0.12790</td>\n",
              "      <td>...</td>\n",
              "      <td>25.53</td>\n",
              "      <td>152.50</td>\n",
              "      <td>1709.0</td>\n",
              "      <td>0.1444</td>\n",
              "      <td>0.4245</td>\n",
              "      <td>0.4504</td>\n",
              "      <td>0.2430</td>\n",
              "      <td>0.3613</td>\n",
              "      <td>0.08758</td>\n",
              "      <td>NaN</td>\n",
              "    </tr>\n",
              "    <tr>\n",
              "      <th>3</th>\n",
              "      <td>84348301</td>\n",
              "      <td>M</td>\n",
              "      <td>11.42</td>\n",
              "      <td>20.38</td>\n",
              "      <td>77.58</td>\n",
              "      <td>386.1</td>\n",
              "      <td>0.14250</td>\n",
              "      <td>0.28390</td>\n",
              "      <td>0.2414</td>\n",
              "      <td>0.10520</td>\n",
              "      <td>...</td>\n",
              "      <td>26.50</td>\n",
              "      <td>98.87</td>\n",
              "      <td>567.7</td>\n",
              "      <td>0.2098</td>\n",
              "      <td>0.8663</td>\n",
              "      <td>0.6869</td>\n",
              "      <td>0.2575</td>\n",
              "      <td>0.6638</td>\n",
              "      <td>0.17300</td>\n",
              "      <td>NaN</td>\n",
              "    </tr>\n",
              "    <tr>\n",
              "      <th>4</th>\n",
              "      <td>84358402</td>\n",
              "      <td>M</td>\n",
              "      <td>20.29</td>\n",
              "      <td>14.34</td>\n",
              "      <td>135.10</td>\n",
              "      <td>1297.0</td>\n",
              "      <td>0.10030</td>\n",
              "      <td>0.13280</td>\n",
              "      <td>0.1980</td>\n",
              "      <td>0.10430</td>\n",
              "      <td>...</td>\n",
              "      <td>16.67</td>\n",
              "      <td>152.20</td>\n",
              "      <td>1575.0</td>\n",
              "      <td>0.1374</td>\n",
              "      <td>0.2050</td>\n",
              "      <td>0.4000</td>\n",
              "      <td>0.1625</td>\n",
              "      <td>0.2364</td>\n",
              "      <td>0.07678</td>\n",
              "      <td>NaN</td>\n",
              "    </tr>\n",
              "  </tbody>\n",
              "</table>\n",
              "<p>5 rows × 33 columns</p>\n",
              "</div>\n",
              "      <button class=\"colab-df-convert\" onclick=\"convertToInteractive('df-d3fab675-ac31-4bd2-b9bd-c13277a025fc')\"\n",
              "              title=\"Convert this dataframe to an interactive table.\"\n",
              "              style=\"display:none;\">\n",
              "        \n",
              "  <svg xmlns=\"http://www.w3.org/2000/svg\" height=\"24px\"viewBox=\"0 0 24 24\"\n",
              "       width=\"24px\">\n",
              "    <path d=\"M0 0h24v24H0V0z\" fill=\"none\"/>\n",
              "    <path d=\"M18.56 5.44l.94 2.06.94-2.06 2.06-.94-2.06-.94-.94-2.06-.94 2.06-2.06.94zm-11 1L8.5 8.5l.94-2.06 2.06-.94-2.06-.94L8.5 2.5l-.94 2.06-2.06.94zm10 10l.94 2.06.94-2.06 2.06-.94-2.06-.94-.94-2.06-.94 2.06-2.06.94z\"/><path d=\"M17.41 7.96l-1.37-1.37c-.4-.4-.92-.59-1.43-.59-.52 0-1.04.2-1.43.59L10.3 9.45l-7.72 7.72c-.78.78-.78 2.05 0 2.83L4 21.41c.39.39.9.59 1.41.59.51 0 1.02-.2 1.41-.59l7.78-7.78 2.81-2.81c.8-.78.8-2.07 0-2.86zM5.41 20L4 18.59l7.72-7.72 1.47 1.35L5.41 20z\"/>\n",
              "  </svg>\n",
              "      </button>\n",
              "      \n",
              "  <style>\n",
              "    .colab-df-container {\n",
              "      display:flex;\n",
              "      flex-wrap:wrap;\n",
              "      gap: 12px;\n",
              "    }\n",
              "\n",
              "    .colab-df-convert {\n",
              "      background-color: #E8F0FE;\n",
              "      border: none;\n",
              "      border-radius: 50%;\n",
              "      cursor: pointer;\n",
              "      display: none;\n",
              "      fill: #1967D2;\n",
              "      height: 32px;\n",
              "      padding: 0 0 0 0;\n",
              "      width: 32px;\n",
              "    }\n",
              "\n",
              "    .colab-df-convert:hover {\n",
              "      background-color: #E2EBFA;\n",
              "      box-shadow: 0px 1px 2px rgba(60, 64, 67, 0.3), 0px 1px 3px 1px rgba(60, 64, 67, 0.15);\n",
              "      fill: #174EA6;\n",
              "    }\n",
              "\n",
              "    [theme=dark] .colab-df-convert {\n",
              "      background-color: #3B4455;\n",
              "      fill: #D2E3FC;\n",
              "    }\n",
              "\n",
              "    [theme=dark] .colab-df-convert:hover {\n",
              "      background-color: #434B5C;\n",
              "      box-shadow: 0px 1px 3px 1px rgba(0, 0, 0, 0.15);\n",
              "      filter: drop-shadow(0px 1px 2px rgba(0, 0, 0, 0.3));\n",
              "      fill: #FFFFFF;\n",
              "    }\n",
              "  </style>\n",
              "\n",
              "      <script>\n",
              "        const buttonEl =\n",
              "          document.querySelector('#df-d3fab675-ac31-4bd2-b9bd-c13277a025fc button.colab-df-convert');\n",
              "        buttonEl.style.display =\n",
              "          google.colab.kernel.accessAllowed ? 'block' : 'none';\n",
              "\n",
              "        async function convertToInteractive(key) {\n",
              "          const element = document.querySelector('#df-d3fab675-ac31-4bd2-b9bd-c13277a025fc');\n",
              "          const dataTable =\n",
              "            await google.colab.kernel.invokeFunction('convertToInteractive',\n",
              "                                                     [key], {});\n",
              "          if (!dataTable) return;\n",
              "\n",
              "          const docLinkHtml = 'Like what you see? Visit the ' +\n",
              "            '<a target=\"_blank\" href=https://colab.research.google.com/notebooks/data_table.ipynb>data table notebook</a>'\n",
              "            + ' to learn more about interactive tables.';\n",
              "          element.innerHTML = '';\n",
              "          dataTable['output_type'] = 'display_data';\n",
              "          await google.colab.output.renderOutput(dataTable, element);\n",
              "          const docLink = document.createElement('div');\n",
              "          docLink.innerHTML = docLinkHtml;\n",
              "          element.appendChild(docLink);\n",
              "        }\n",
              "      </script>\n",
              "    </div>\n",
              "  </div>\n",
              "  "
            ],
            "text/plain": [
              "         id diagnosis  radius_mean  texture_mean  perimeter_mean  area_mean  \\\n",
              "0    842302         M        17.99         10.38          122.80     1001.0   \n",
              "1    842517         M        20.57         17.77          132.90     1326.0   \n",
              "2  84300903         M        19.69         21.25          130.00     1203.0   \n",
              "3  84348301         M        11.42         20.38           77.58      386.1   \n",
              "4  84358402         M        20.29         14.34          135.10     1297.0   \n",
              "\n",
              "   smoothness_mean  compactness_mean  concavity_mean  concave points_mean  \\\n",
              "0          0.11840           0.27760          0.3001              0.14710   \n",
              "1          0.08474           0.07864          0.0869              0.07017   \n",
              "2          0.10960           0.15990          0.1974              0.12790   \n",
              "3          0.14250           0.28390          0.2414              0.10520   \n",
              "4          0.10030           0.13280          0.1980              0.10430   \n",
              "\n",
              "   ...  texture_worst  perimeter_worst  area_worst  smoothness_worst  \\\n",
              "0  ...          17.33           184.60      2019.0            0.1622   \n",
              "1  ...          23.41           158.80      1956.0            0.1238   \n",
              "2  ...          25.53           152.50      1709.0            0.1444   \n",
              "3  ...          26.50            98.87       567.7            0.2098   \n",
              "4  ...          16.67           152.20      1575.0            0.1374   \n",
              "\n",
              "   compactness_worst  concavity_worst  concave points_worst  symmetry_worst  \\\n",
              "0             0.6656           0.7119                0.2654          0.4601   \n",
              "1             0.1866           0.2416                0.1860          0.2750   \n",
              "2             0.4245           0.4504                0.2430          0.3613   \n",
              "3             0.8663           0.6869                0.2575          0.6638   \n",
              "4             0.2050           0.4000                0.1625          0.2364   \n",
              "\n",
              "   fractal_dimension_worst  Unnamed: 32  \n",
              "0                  0.11890          NaN  \n",
              "1                  0.08902          NaN  \n",
              "2                  0.08758          NaN  \n",
              "3                  0.17300          NaN  \n",
              "4                  0.07678          NaN  \n",
              "\n",
              "[5 rows x 33 columns]"
            ]
          },
          "execution_count": 6,
          "metadata": {},
          "output_type": "execute_result"
        }
      ],
      "source": [
        "cancer_df.head()"
      ]
    },
    {
      "cell_type": "code",
      "execution_count": null,
      "metadata": {
        "id": "hH-JLC4SOshc"
      },
      "outputs": [],
      "source": [
        "del cancer_df[\"Unnamed: 32\"]"
      ]
    },
    {
      "cell_type": "code",
      "execution_count": null,
      "metadata": {
        "colab": {
          "base_uri": "https://localhost:8080/"
        },
        "id": "8OnTdM7KOvN_",
        "outputId": "275208cc-969d-4345-dc81-d6f217dfa5a8"
      },
      "outputs": [
        {
          "name": "stdout",
          "output_type": "stream",
          "text": [
            "     radius_mean  texture_mean  perimeter_mean  area_mean  smoothness_mean  \\\n",
            "0          17.99         10.38          122.80     1001.0          0.11840   \n",
            "1          20.57         17.77          132.90     1326.0          0.08474   \n",
            "2          19.69         21.25          130.00     1203.0          0.10960   \n",
            "3          11.42         20.38           77.58      386.1          0.14250   \n",
            "4          20.29         14.34          135.10     1297.0          0.10030   \n",
            "..           ...           ...             ...        ...              ...   \n",
            "564        21.56         22.39          142.00     1479.0          0.11100   \n",
            "565        20.13         28.25          131.20     1261.0          0.09780   \n",
            "566        16.60         28.08          108.30      858.1          0.08455   \n",
            "567        20.60         29.33          140.10     1265.0          0.11780   \n",
            "568         7.76         24.54           47.92      181.0          0.05263   \n",
            "\n",
            "     compactness_mean  concavity_mean  concave points_mean  symmetry_mean  \\\n",
            "0             0.27760         0.30010              0.14710         0.2419   \n",
            "1             0.07864         0.08690              0.07017         0.1812   \n",
            "2             0.15990         0.19740              0.12790         0.2069   \n",
            "3             0.28390         0.24140              0.10520         0.2597   \n",
            "4             0.13280         0.19800              0.10430         0.1809   \n",
            "..                ...             ...                  ...            ...   \n",
            "564           0.11590         0.24390              0.13890         0.1726   \n",
            "565           0.10340         0.14400              0.09791         0.1752   \n",
            "566           0.10230         0.09251              0.05302         0.1590   \n",
            "567           0.27700         0.35140              0.15200         0.2397   \n",
            "568           0.04362         0.00000              0.00000         0.1587   \n",
            "\n",
            "     fractal_dimension_mean  ...  radius_worst  texture_worst  \\\n",
            "0                   0.07871  ...        25.380          17.33   \n",
            "1                   0.05667  ...        24.990          23.41   \n",
            "2                   0.05999  ...        23.570          25.53   \n",
            "3                   0.09744  ...        14.910          26.50   \n",
            "4                   0.05883  ...        22.540          16.67   \n",
            "..                      ...  ...           ...            ...   \n",
            "564                 0.05623  ...        25.450          26.40   \n",
            "565                 0.05533  ...        23.690          38.25   \n",
            "566                 0.05648  ...        18.980          34.12   \n",
            "567                 0.07016  ...        25.740          39.42   \n",
            "568                 0.05884  ...         9.456          30.37   \n",
            "\n",
            "     perimeter_worst  area_worst  smoothness_worst  compactness_worst  \\\n",
            "0             184.60      2019.0           0.16220            0.66560   \n",
            "1             158.80      1956.0           0.12380            0.18660   \n",
            "2             152.50      1709.0           0.14440            0.42450   \n",
            "3              98.87       567.7           0.20980            0.86630   \n",
            "4             152.20      1575.0           0.13740            0.20500   \n",
            "..               ...         ...               ...                ...   \n",
            "564           166.10      2027.0           0.14100            0.21130   \n",
            "565           155.00      1731.0           0.11660            0.19220   \n",
            "566           126.70      1124.0           0.11390            0.30940   \n",
            "567           184.60      1821.0           0.16500            0.86810   \n",
            "568            59.16       268.6           0.08996            0.06444   \n",
            "\n",
            "     concavity_worst  concave points_worst  symmetry_worst  \\\n",
            "0             0.7119                0.2654          0.4601   \n",
            "1             0.2416                0.1860          0.2750   \n",
            "2             0.4504                0.2430          0.3613   \n",
            "3             0.6869                0.2575          0.6638   \n",
            "4             0.4000                0.1625          0.2364   \n",
            "..               ...                   ...             ...   \n",
            "564           0.4107                0.2216          0.2060   \n",
            "565           0.3215                0.1628          0.2572   \n",
            "566           0.3403                0.1418          0.2218   \n",
            "567           0.9387                0.2650          0.4087   \n",
            "568           0.0000                0.0000          0.2871   \n",
            "\n",
            "     fractal_dimension_worst  \n",
            "0                    0.11890  \n",
            "1                    0.08902  \n",
            "2                    0.08758  \n",
            "3                    0.17300  \n",
            "4                    0.07678  \n",
            "..                       ...  \n",
            "564                  0.07115  \n",
            "565                  0.06637  \n",
            "566                  0.07820  \n",
            "567                  0.12400  \n",
            "568                  0.07039  \n",
            "\n",
            "[569 rows x 30 columns]\n",
            "0      M\n",
            "1      M\n",
            "2      M\n",
            "3      M\n",
            "4      M\n",
            "      ..\n",
            "564    M\n",
            "565    M\n",
            "566    M\n",
            "567    M\n",
            "568    B\n",
            "Name: diagnosis, Length: 569, dtype: object\n"
          ]
        }
      ],
      "source": [
        "x = cancer_df.drop([\"diagnosis\",\"id\"],axis=1)\n",
        "print(x)\n",
        "y = cancer_df[\"diagnosis\"]\n",
        "print(y)"
      ]
    },
    {
      "cell_type": "markdown",
      "metadata": {
        "id": "vHXGNFcvRRjW"
      },
      "source": [
        "Label encoding the column \"diagnosis\"\n",
        "1 - Malignant(M)\n",
        "0 - Benign(B)\n"
      ]
    },
    {
      "cell_type": "code",
      "execution_count": null,
      "metadata": {
        "id": "16ue5QZXOxdU"
      },
      "outputs": [],
      "source": [
        "from sklearn.preprocessing import LabelEncoder\n",
        "labelencoder = LabelEncoder()\n",
        "y=cancer_df[\"diagnosis\"] = labelencoder.fit_transform(cancer_df[\"diagnosis\"])"
      ]
    },
    {
      "cell_type": "code",
      "execution_count": null,
      "metadata": {
        "colab": {
          "base_uri": "https://localhost:8080/"
        },
        "id": "8cTkG0b4O2qK",
        "outputId": "255287b2-fc96-46f8-a39f-b934e4619826"
      },
      "outputs": [
        {
          "name": "stdout",
          "output_type": "stream",
          "text": [
            "         id  diagnosis  radius_mean  texture_mean  perimeter_mean  area_mean  \\\n",
            "0    842302          1        17.99         10.38          122.80     1001.0   \n",
            "1    842517          1        20.57         17.77          132.90     1326.0   \n",
            "2  84300903          1        19.69         21.25          130.00     1203.0   \n",
            "3  84348301          1        11.42         20.38           77.58      386.1   \n",
            "4  84358402          1        20.29         14.34          135.10     1297.0   \n",
            "\n",
            "   smoothness_mean  compactness_mean  concavity_mean  concave points_mean  \\\n",
            "0          0.11840           0.27760          0.3001              0.14710   \n",
            "1          0.08474           0.07864          0.0869              0.07017   \n",
            "2          0.10960           0.15990          0.1974              0.12790   \n",
            "3          0.14250           0.28390          0.2414              0.10520   \n",
            "4          0.10030           0.13280          0.1980              0.10430   \n",
            "\n",
            "   ...  radius_worst  texture_worst  perimeter_worst  area_worst  \\\n",
            "0  ...         25.38          17.33           184.60      2019.0   \n",
            "1  ...         24.99          23.41           158.80      1956.0   \n",
            "2  ...         23.57          25.53           152.50      1709.0   \n",
            "3  ...         14.91          26.50            98.87       567.7   \n",
            "4  ...         22.54          16.67           152.20      1575.0   \n",
            "\n",
            "   smoothness_worst  compactness_worst  concavity_worst  concave points_worst  \\\n",
            "0            0.1622             0.6656           0.7119                0.2654   \n",
            "1            0.1238             0.1866           0.2416                0.1860   \n",
            "2            0.1444             0.4245           0.4504                0.2430   \n",
            "3            0.2098             0.8663           0.6869                0.2575   \n",
            "4            0.1374             0.2050           0.4000                0.1625   \n",
            "\n",
            "   symmetry_worst  fractal_dimension_worst  \n",
            "0          0.4601                  0.11890  \n",
            "1          0.2750                  0.08902  \n",
            "2          0.3613                  0.08758  \n",
            "3          0.6638                  0.17300  \n",
            "4          0.2364                  0.07678  \n",
            "\n",
            "[5 rows x 32 columns]\n"
          ]
        }
      ],
      "source": [
        "print(cancer_df.head())"
      ]
    },
    {
      "cell_type": "markdown",
      "metadata": {
        "id": "RHkeJZBtRZw9"
      },
      "source": [
        "Splitting the data into training and testing set"
      ]
    },
    {
      "cell_type": "markdown",
      "metadata": {
        "id": "gW16DLIuFgf9"
      },
      "source": [
        "Test case 1(80-20)"
      ]
    },
    {
      "cell_type": "code",
      "execution_count": null,
      "metadata": {
        "id": "izyqrJyPO4sI"
      },
      "outputs": [],
      "source": [
        "x_train,x_test,y_train,y_test = train_test_split(x,y,test_size=0.2,random_state=0,stratify=y)"
      ]
    },
    {
      "cell_type": "code",
      "execution_count": null,
      "metadata": {
        "colab": {
          "base_uri": "https://localhost:8080/"
        },
        "id": "4lfO_9dsO77m",
        "outputId": "8c986761-c01e-4ced-a9ad-39559679cfa6"
      },
      "outputs": [
        {
          "data": {
            "text/plain": [
              "(455, 30)"
            ]
          },
          "execution_count": 12,
          "metadata": {},
          "output_type": "execute_result"
        }
      ],
      "source": [
        "x_train.shape"
      ]
    },
    {
      "cell_type": "code",
      "execution_count": null,
      "metadata": {
        "colab": {
          "base_uri": "https://localhost:8080/"
        },
        "id": "ZThL04yaO-YI",
        "outputId": "3ce07d20-cf74-49a3-884e-aca91d85769e"
      },
      "outputs": [
        {
          "data": {
            "text/plain": [
              "(114, 30)"
            ]
          },
          "execution_count": 13,
          "metadata": {},
          "output_type": "execute_result"
        }
      ],
      "source": [
        "x_test.shape"
      ]
    },
    {
      "cell_type": "markdown",
      "metadata": {
        "id": "6wni69S6Sut2"
      },
      "source": [
        "Feature Scaling"
      ]
    },
    {
      "cell_type": "code",
      "execution_count": null,
      "metadata": {
        "id": "k38-nLMBPAeJ"
      },
      "outputs": [],
      "source": [
        "sc = StandardScaler()\n",
        "x_train = sc.fit_transform(x_train)\n",
        "x_test = sc.transform(x_test)"
      ]
    },
    {
      "cell_type": "markdown",
      "metadata": {
        "id": "7qqBQ09qSwEy"
      },
      "source": [
        "Reshaping the data"
      ]
    },
    {
      "cell_type": "code",
      "execution_count": null,
      "metadata": {
        "id": "3nypKHUZPDDU"
      },
      "outputs": [],
      "source": [
        "x_train = x_train.reshape(455,30,1)\n",
        "x_test = x_test.reshape(114, 30, 1)"
      ]
    },
    {
      "cell_type": "markdown",
      "metadata": {
        "id": "4ZPtFcseSyIw"
      },
      "source": [
        "Defining the layers"
      ]
    },
    {
      "cell_type": "markdown",
      "metadata": {
        "id": "WapF9OdYFmVC"
      },
      "source": [
        "1) epochs=50"
      ]
    },
    {
      "cell_type": "code",
      "execution_count": null,
      "metadata": {
        "id": "M1C527QpPFax"
      },
      "outputs": [],
      "source": [
        "epochs = 50\n",
        "model = Sequential()\n",
        "model.add(Conv1D(filters=32, kernel_size=2, activation='relu', input_shape = (30,1)))\n",
        "model.add(BatchNormalization())\n",
        "model.add(Dropout(0.2))\n",
        "\n",
        "model.add(Conv1D(filters=64, kernel_size=2, activation='relu'))\n",
        "model.add(BatchNormalization())\n",
        "model.add(Dropout(0.5))\n",
        "\n",
        "model.add(Flatten())\n",
        "model.add(Dense(64, activation='relu'))\n",
        "model.add(Dropout(0.5))\n",
        "\n",
        "model.add(Dense(1, activation='sigmoid'))"
      ]
    },
    {
      "cell_type": "code",
      "execution_count": null,
      "metadata": {
        "colab": {
          "base_uri": "https://localhost:8080/"
        },
        "id": "UjtRLv4YByyc",
        "outputId": "44464ed6-2c12-4e6b-b85f-f319a8b6ae0e"
      },
      "outputs": [
        {
          "name": "stdout",
          "output_type": "stream",
          "text": [
            "Model: \"sequential\"\n",
            "_________________________________________________________________\n",
            " Layer (type)                Output Shape              Param #   \n",
            "=================================================================\n",
            " conv1d (Conv1D)             (None, 29, 32)            96        \n",
            "                                                                 \n",
            " batch_normalization (BatchN  (None, 29, 32)           128       \n",
            " ormalization)                                                   \n",
            "                                                                 \n",
            " dropout (Dropout)           (None, 29, 32)            0         \n",
            "                                                                 \n",
            " conv1d_1 (Conv1D)           (None, 28, 64)            4160      \n",
            "                                                                 \n",
            " batch_normalization_1 (Batc  (None, 28, 64)           256       \n",
            " hNormalization)                                                 \n",
            "                                                                 \n",
            " dropout_1 (Dropout)         (None, 28, 64)            0         \n",
            "                                                                 \n",
            " flatten (Flatten)           (None, 1792)              0         \n",
            "                                                                 \n",
            " dense (Dense)               (None, 64)                114752    \n",
            "                                                                 \n",
            " dropout_2 (Dropout)         (None, 64)                0         \n",
            "                                                                 \n",
            " dense_1 (Dense)             (None, 1)                 65        \n",
            "                                                                 \n",
            "=================================================================\n",
            "Total params: 119,457\n",
            "Trainable params: 119,265\n",
            "Non-trainable params: 192\n",
            "_________________________________________________________________\n"
          ]
        }
      ],
      "source": [
        "model.summary()"
      ]
    },
    {
      "cell_type": "markdown",
      "metadata": {
        "id": "6UTDOz-4S3oJ"
      },
      "source": [
        "Compiling the model"
      ]
    },
    {
      "cell_type": "code",
      "execution_count": null,
      "metadata": {
        "id": "utsIkQZ8PI1V"
      },
      "outputs": [],
      "source": [
        "model.compile(optimizer=Adam(learning_rate=0.00005), loss = 'binary_crossentropy', metrics=['accuracy'])"
      ]
    },
    {
      "cell_type": "markdown",
      "metadata": {
        "id": "hRhJAVWoS9x3"
      },
      "source": [
        "Fitting the model"
      ]
    },
    {
      "cell_type": "code",
      "execution_count": null,
      "metadata": {
        "colab": {
          "base_uri": "https://localhost:8080/"
        },
        "id": "UPzsvxLgPLNG",
        "outputId": "b6d3d6d0-1f4b-442f-c382-5ee362296871"
      },
      "outputs": [
        {
          "name": "stdout",
          "output_type": "stream",
          "text": [
            "Epoch 1/50\n",
            "15/15 [==============================] - 3s 64ms/step - loss: 0.9799 - accuracy: 0.5824 - val_loss: 0.6832 - val_accuracy: 0.5965\n",
            "Epoch 2/50\n",
            "15/15 [==============================] - 0s 28ms/step - loss: 0.7363 - accuracy: 0.6769 - val_loss: 0.6600 - val_accuracy: 0.6579\n",
            "Epoch 3/50\n",
            "15/15 [==============================] - 0s 21ms/step - loss: 0.4815 - accuracy: 0.7846 - val_loss: 0.6386 - val_accuracy: 0.6754\n",
            "Epoch 4/50\n",
            "15/15 [==============================] - 0s 13ms/step - loss: 0.4406 - accuracy: 0.8242 - val_loss: 0.6163 - val_accuracy: 0.6930\n",
            "Epoch 5/50\n",
            "15/15 [==============================] - 0s 13ms/step - loss: 0.3752 - accuracy: 0.8396 - val_loss: 0.5930 - val_accuracy: 0.7632\n",
            "Epoch 6/50\n",
            "15/15 [==============================] - 0s 13ms/step - loss: 0.3277 - accuracy: 0.8571 - val_loss: 0.5655 - val_accuracy: 0.7982\n",
            "Epoch 7/50\n",
            "15/15 [==============================] - 0s 15ms/step - loss: 0.3207 - accuracy: 0.8615 - val_loss: 0.5363 - val_accuracy: 0.8246\n",
            "Epoch 8/50\n",
            "15/15 [==============================] - 0s 13ms/step - loss: 0.2846 - accuracy: 0.8835 - val_loss: 0.5065 - val_accuracy: 0.8246\n",
            "Epoch 9/50\n",
            "15/15 [==============================] - 0s 13ms/step - loss: 0.2734 - accuracy: 0.8989 - val_loss: 0.4795 - val_accuracy: 0.8246\n",
            "Epoch 10/50\n",
            "15/15 [==============================] - 0s 15ms/step - loss: 0.2132 - accuracy: 0.9165 - val_loss: 0.4476 - val_accuracy: 0.8684\n",
            "Epoch 11/50\n",
            "15/15 [==============================] - 0s 12ms/step - loss: 0.2678 - accuracy: 0.9033 - val_loss: 0.4160 - val_accuracy: 0.8860\n",
            "Epoch 12/50\n",
            "15/15 [==============================] - 0s 14ms/step - loss: 0.1988 - accuracy: 0.9319 - val_loss: 0.3856 - val_accuracy: 0.8860\n",
            "Epoch 13/50\n",
            "15/15 [==============================] - 0s 14ms/step - loss: 0.2387 - accuracy: 0.9121 - val_loss: 0.3566 - val_accuracy: 0.8947\n",
            "Epoch 14/50\n",
            "15/15 [==============================] - 0s 13ms/step - loss: 0.2142 - accuracy: 0.9275 - val_loss: 0.3276 - val_accuracy: 0.8947\n",
            "Epoch 15/50\n",
            "15/15 [==============================] - 0s 24ms/step - loss: 0.1383 - accuracy: 0.9451 - val_loss: 0.3027 - val_accuracy: 0.9123\n",
            "Epoch 16/50\n",
            "15/15 [==============================] - 0s 23ms/step - loss: 0.1789 - accuracy: 0.9363 - val_loss: 0.2756 - val_accuracy: 0.9211\n",
            "Epoch 17/50\n",
            "15/15 [==============================] - 0s 23ms/step - loss: 0.1321 - accuracy: 0.9451 - val_loss: 0.2523 - val_accuracy: 0.9211\n",
            "Epoch 18/50\n",
            "15/15 [==============================] - 0s 24ms/step - loss: 0.1781 - accuracy: 0.9319 - val_loss: 0.2327 - val_accuracy: 0.9211\n",
            "Epoch 19/50\n",
            "15/15 [==============================] - 0s 24ms/step - loss: 0.1667 - accuracy: 0.9297 - val_loss: 0.2161 - val_accuracy: 0.9211\n",
            "Epoch 20/50\n",
            "15/15 [==============================] - 0s 30ms/step - loss: 0.2175 - accuracy: 0.9253 - val_loss: 0.2046 - val_accuracy: 0.9211\n",
            "Epoch 21/50\n",
            "15/15 [==============================] - 0s 27ms/step - loss: 0.1921 - accuracy: 0.9231 - val_loss: 0.1913 - val_accuracy: 0.9211\n",
            "Epoch 22/50\n",
            "15/15 [==============================] - 0s 24ms/step - loss: 0.1544 - accuracy: 0.9516 - val_loss: 0.1769 - val_accuracy: 0.9298\n",
            "Epoch 23/50\n",
            "15/15 [==============================] - 0s 26ms/step - loss: 0.1814 - accuracy: 0.9297 - val_loss: 0.1681 - val_accuracy: 0.9298\n",
            "Epoch 24/50\n",
            "15/15 [==============================] - 0s 25ms/step - loss: 0.1706 - accuracy: 0.9429 - val_loss: 0.1595 - val_accuracy: 0.9386\n",
            "Epoch 25/50\n",
            "15/15 [==============================] - 0s 25ms/step - loss: 0.1309 - accuracy: 0.9538 - val_loss: 0.1523 - val_accuracy: 0.9386\n",
            "Epoch 26/50\n",
            "15/15 [==============================] - 0s 32ms/step - loss: 0.1286 - accuracy: 0.9670 - val_loss: 0.1463 - val_accuracy: 0.9386\n",
            "Epoch 27/50\n",
            "15/15 [==============================] - 0s 31ms/step - loss: 0.1459 - accuracy: 0.9495 - val_loss: 0.1441 - val_accuracy: 0.9386\n",
            "Epoch 28/50\n",
            "15/15 [==============================] - 0s 30ms/step - loss: 0.1045 - accuracy: 0.9648 - val_loss: 0.1375 - val_accuracy: 0.9561\n",
            "Epoch 29/50\n",
            "15/15 [==============================] - 0s 25ms/step - loss: 0.1888 - accuracy: 0.9253 - val_loss: 0.1320 - val_accuracy: 0.9561\n",
            "Epoch 30/50\n",
            "15/15 [==============================] - 0s 30ms/step - loss: 0.1148 - accuracy: 0.9582 - val_loss: 0.1288 - val_accuracy: 0.9561\n",
            "Epoch 31/50\n",
            "15/15 [==============================] - 0s 33ms/step - loss: 0.1403 - accuracy: 0.9516 - val_loss: 0.1271 - val_accuracy: 0.9561\n",
            "Epoch 32/50\n",
            "15/15 [==============================] - 0s 26ms/step - loss: 0.0972 - accuracy: 0.9538 - val_loss: 0.1255 - val_accuracy: 0.9561\n",
            "Epoch 33/50\n",
            "15/15 [==============================] - 0s 25ms/step - loss: 0.1166 - accuracy: 0.9473 - val_loss: 0.1236 - val_accuracy: 0.9561\n",
            "Epoch 34/50\n",
            "15/15 [==============================] - 1s 36ms/step - loss: 0.1016 - accuracy: 0.9604 - val_loss: 0.1207 - val_accuracy: 0.9561\n",
            "Epoch 35/50\n",
            "15/15 [==============================] - 0s 27ms/step - loss: 0.1402 - accuracy: 0.9473 - val_loss: 0.1175 - val_accuracy: 0.9649\n",
            "Epoch 36/50\n",
            "15/15 [==============================] - 0s 34ms/step - loss: 0.1403 - accuracy: 0.9495 - val_loss: 0.1151 - val_accuracy: 0.9649\n",
            "Epoch 37/50\n",
            "15/15 [==============================] - 0s 34ms/step - loss: 0.1172 - accuracy: 0.9495 - val_loss: 0.1128 - val_accuracy: 0.9649\n",
            "Epoch 38/50\n",
            "15/15 [==============================] - 0s 32ms/step - loss: 0.1144 - accuracy: 0.9582 - val_loss: 0.1132 - val_accuracy: 0.9649\n",
            "Epoch 39/50\n",
            "15/15 [==============================] - 0s 33ms/step - loss: 0.1063 - accuracy: 0.9626 - val_loss: 0.1114 - val_accuracy: 0.9649\n",
            "Epoch 40/50\n",
            "15/15 [==============================] - 0s 28ms/step - loss: 0.1178 - accuracy: 0.9648 - val_loss: 0.1100 - val_accuracy: 0.9649\n",
            "Epoch 41/50\n",
            "15/15 [==============================] - 0s 27ms/step - loss: 0.1194 - accuracy: 0.9473 - val_loss: 0.1069 - val_accuracy: 0.9649\n",
            "Epoch 42/50\n",
            "15/15 [==============================] - 0s 27ms/step - loss: 0.1061 - accuracy: 0.9604 - val_loss: 0.1055 - val_accuracy: 0.9737\n",
            "Epoch 43/50\n",
            "15/15 [==============================] - 0s 26ms/step - loss: 0.1276 - accuracy: 0.9516 - val_loss: 0.1044 - val_accuracy: 0.9737\n",
            "Epoch 44/50\n",
            "15/15 [==============================] - 0s 29ms/step - loss: 0.1012 - accuracy: 0.9648 - val_loss: 0.1048 - val_accuracy: 0.9649\n",
            "Epoch 45/50\n",
            "15/15 [==============================] - 0s 28ms/step - loss: 0.0912 - accuracy: 0.9692 - val_loss: 0.1048 - val_accuracy: 0.9649\n",
            "Epoch 46/50\n",
            "15/15 [==============================] - 0s 29ms/step - loss: 0.1552 - accuracy: 0.9516 - val_loss: 0.1055 - val_accuracy: 0.9649\n",
            "Epoch 47/50\n",
            "15/15 [==============================] - 0s 21ms/step - loss: 0.1313 - accuracy: 0.9451 - val_loss: 0.1046 - val_accuracy: 0.9649\n",
            "Epoch 48/50\n",
            "15/15 [==============================] - 0s 21ms/step - loss: 0.1354 - accuracy: 0.9495 - val_loss: 0.1020 - val_accuracy: 0.9737\n",
            "Epoch 49/50\n",
            "15/15 [==============================] - 0s 27ms/step - loss: 0.0879 - accuracy: 0.9670 - val_loss: 0.1041 - val_accuracy: 0.9649\n",
            "Epoch 50/50\n",
            "15/15 [==============================] - 0s 27ms/step - loss: 0.1067 - accuracy: 0.9560 - val_loss: 0.1049 - val_accuracy: 0.9649\n"
          ]
        }
      ],
      "source": [
        "history = model.fit(x_train, y_train, epochs=epochs, validation_data=(x_test, y_test), verbose=1)"
      ]
    },
    {
      "cell_type": "code",
      "execution_count": null,
      "metadata": {
        "colab": {
          "base_uri": "https://localhost:8080/"
        },
        "id": "JYQKubPCBuTR",
        "outputId": "85822634-861d-4ce8-a2b2-132c5ecbb54c"
      },
      "outputs": [
        {
          "data": {
            "text/plain": [
              "{'loss': [0.9799124002456665,\n",
              "  0.7363051772117615,\n",
              "  0.4814606308937073,\n",
              "  0.44060277938842773,\n",
              "  0.3751814663410187,\n",
              "  0.32773086428642273,\n",
              "  0.32069942355155945,\n",
              "  0.284616619348526,\n",
              "  0.27343156933784485,\n",
              "  0.21315927803516388,\n",
              "  0.26781412959098816,\n",
              "  0.19881115853786469,\n",
              "  0.23870082199573517,\n",
              "  0.21420620381832123,\n",
              "  0.13827234506607056,\n",
              "  0.17890729010105133,\n",
              "  0.1320960968732834,\n",
              "  0.17806793749332428,\n",
              "  0.16668276488780975,\n",
              "  0.2174980193376541,\n",
              "  0.19207242131233215,\n",
              "  0.15441101789474487,\n",
              "  0.18144336342811584,\n",
              "  0.17063617706298828,\n",
              "  0.13090308010578156,\n",
              "  0.12864422798156738,\n",
              "  0.1459224373102188,\n",
              "  0.1045055016875267,\n",
              "  0.18876422941684723,\n",
              "  0.11476748436689377,\n",
              "  0.14032451808452606,\n",
              "  0.09721893817186356,\n",
              "  0.11656055599451065,\n",
              "  0.10162915289402008,\n",
              "  0.14024463295936584,\n",
              "  0.1403270810842514,\n",
              "  0.11717164516448975,\n",
              "  0.11442792415618896,\n",
              "  0.10625750571489334,\n",
              "  0.11783420294523239,\n",
              "  0.11940263956785202,\n",
              "  0.10608552396297455,\n",
              "  0.12756773829460144,\n",
              "  0.10115337371826172,\n",
              "  0.09117849171161652,\n",
              "  0.1552172750234604,\n",
              "  0.13125640153884888,\n",
              "  0.1354047656059265,\n",
              "  0.087886281311512,\n",
              "  0.10669644176959991],\n",
              " 'accuracy': [0.5824176073074341,\n",
              "  0.6769230961799622,\n",
              "  0.7846153974533081,\n",
              "  0.8241758346557617,\n",
              "  0.8395604491233826,\n",
              "  0.8571428656578064,\n",
              "  0.8615384697914124,\n",
              "  0.8835164904594421,\n",
              "  0.898901104927063,\n",
              "  0.9164835214614868,\n",
              "  0.903296709060669,\n",
              "  0.9318681359291077,\n",
              "  0.9120879173278809,\n",
              "  0.9274725317955017,\n",
              "  0.9450549483299255,\n",
              "  0.9362637400627136,\n",
              "  0.9450549483299255,\n",
              "  0.9318681359291077,\n",
              "  0.9296703338623047,\n",
              "  0.9252747297286987,\n",
              "  0.9230769276618958,\n",
              "  0.9516483545303345,\n",
              "  0.9296703338623047,\n",
              "  0.9428571462631226,\n",
              "  0.9538461565971375,\n",
              "  0.9670329689979553,\n",
              "  0.9494505524635315,\n",
              "  0.9648351669311523,\n",
              "  0.9252747297286987,\n",
              "  0.9582417607307434,\n",
              "  0.9516483545303345,\n",
              "  0.9538461565971375,\n",
              "  0.9472527503967285,\n",
              "  0.9604395627975464,\n",
              "  0.9472527503967285,\n",
              "  0.9494505524635315,\n",
              "  0.9494505524635315,\n",
              "  0.9582417607307434,\n",
              "  0.9626373648643494,\n",
              "  0.9648351669311523,\n",
              "  0.9472527503967285,\n",
              "  0.9604395627975464,\n",
              "  0.9516483545303345,\n",
              "  0.9648351669311523,\n",
              "  0.9692307710647583,\n",
              "  0.9516483545303345,\n",
              "  0.9450549483299255,\n",
              "  0.9494505524635315,\n",
              "  0.9670329689979553,\n",
              "  0.9560439586639404],\n",
              " 'val_loss': [0.6831840872764587,\n",
              "  0.6599642634391785,\n",
              "  0.6385772228240967,\n",
              "  0.6163121461868286,\n",
              "  0.5929898619651794,\n",
              "  0.5654832720756531,\n",
              "  0.5363109707832336,\n",
              "  0.5065454244613647,\n",
              "  0.4795016348361969,\n",
              "  0.44757160544395447,\n",
              "  0.4159628748893738,\n",
              "  0.38555043935775757,\n",
              "  0.3566155731678009,\n",
              "  0.3276088833808899,\n",
              "  0.3026987910270691,\n",
              "  0.275597482919693,\n",
              "  0.2522573173046112,\n",
              "  0.23273301124572754,\n",
              "  0.21613921225070953,\n",
              "  0.20462815463542938,\n",
              "  0.19126145541667938,\n",
              "  0.17692971229553223,\n",
              "  0.16810062527656555,\n",
              "  0.15949034690856934,\n",
              "  0.1522512137889862,\n",
              "  0.14625580608844757,\n",
              "  0.1440536230802536,\n",
              "  0.13754191994667053,\n",
              "  0.1320130079984665,\n",
              "  0.12881805002689362,\n",
              "  0.12706437706947327,\n",
              "  0.12547610700130463,\n",
              "  0.1236371099948883,\n",
              "  0.12074889987707138,\n",
              "  0.11753997951745987,\n",
              "  0.11512219160795212,\n",
              "  0.11276212334632874,\n",
              "  0.11323737353086472,\n",
              "  0.1113768145442009,\n",
              "  0.11003467440605164,\n",
              "  0.10692849010229111,\n",
              "  0.10550392419099808,\n",
              "  0.10438168793916702,\n",
              "  0.10478855669498444,\n",
              "  0.10478639602661133,\n",
              "  0.10548993945121765,\n",
              "  0.1045638769865036,\n",
              "  0.10197481513023376,\n",
              "  0.10405705869197845,\n",
              "  0.10492739826440811],\n",
              " 'val_accuracy': [0.5964912176132202,\n",
              "  0.6578947305679321,\n",
              "  0.6754385828971863,\n",
              "  0.6929824352264404,\n",
              "  0.7631579041481018,\n",
              "  0.7982456088066101,\n",
              "  0.8245614171028137,\n",
              "  0.8245614171028137,\n",
              "  0.8245614171028137,\n",
              "  0.8684210777282715,\n",
              "  0.8859649300575256,\n",
              "  0.8859649300575256,\n",
              "  0.8947368264198303,\n",
              "  0.8947368264198303,\n",
              "  0.9122806787490845,\n",
              "  0.9210526347160339,\n",
              "  0.9210526347160339,\n",
              "  0.9210526347160339,\n",
              "  0.9210526347160339,\n",
              "  0.9210526347160339,\n",
              "  0.9210526347160339,\n",
              "  0.9298245906829834,\n",
              "  0.9298245906829834,\n",
              "  0.9385964870452881,\n",
              "  0.9385964870452881,\n",
              "  0.9385964870452881,\n",
              "  0.9385964870452881,\n",
              "  0.9561403393745422,\n",
              "  0.9561403393745422,\n",
              "  0.9561403393745422,\n",
              "  0.9561403393745422,\n",
              "  0.9561403393745422,\n",
              "  0.9561403393745422,\n",
              "  0.9561403393745422,\n",
              "  0.9649122953414917,\n",
              "  0.9649122953414917,\n",
              "  0.9649122953414917,\n",
              "  0.9649122953414917,\n",
              "  0.9649122953414917,\n",
              "  0.9649122953414917,\n",
              "  0.9649122953414917,\n",
              "  0.9736841917037964,\n",
              "  0.9736841917037964,\n",
              "  0.9649122953414917,\n",
              "  0.9649122953414917,\n",
              "  0.9649122953414917,\n",
              "  0.9649122953414917,\n",
              "  0.9736841917037964,\n",
              "  0.9649122953414917,\n",
              "  0.9649122953414917]}"
            ]
          },
          "execution_count": 20,
          "metadata": {},
          "output_type": "execute_result"
        }
      ],
      "source": [
        "history.history"
      ]
    },
    {
      "cell_type": "code",
      "execution_count": null,
      "metadata": {
        "id": "G8erYBk6PNvH"
      },
      "outputs": [],
      "source": [
        "def plot_learningCurve(history, epoch):\n",
        "  # Plot training & validation accuracy values\n",
        "  epoch_range = range(1, epoch+1)\n",
        "  plt.plot(epoch_range, history.history['accuracy'])\n",
        "  plt.plot(epoch_range, history.history['val_accuracy'])\n",
        "  plt.title('Model accuracy')\n",
        "  plt.ylabel('Accuracy')\n",
        "  plt.xlabel('Epoch')\n",
        "  plt.legend(['Train', 'Val'], loc='upper left')\n",
        "  plt.show()\n",
        "\n",
        "  # Plot training & validation loss values\n",
        "  plt.plot(epoch_range, history.history['loss'])\n",
        "  plt.plot(epoch_range, history.history['val_loss'])\n",
        "  plt.title('Model loss')\n",
        "  plt.ylabel('Loss')\n",
        "  plt.xlabel('Epoch')\n",
        "  plt.legend(['Train', 'Val'], loc='upper left')\n",
        "  plt.show()"
      ]
    },
    {
      "cell_type": "code",
      "execution_count": null,
      "metadata": {
        "colab": {
          "base_uri": "https://localhost:8080/",
          "height": 573
        },
        "id": "-n8qpzmpPWHh",
        "outputId": "67cc4c09-070e-407f-b5aa-17fd9bc48768"
      },
      "outputs": [
        {
          "data": {
            "image/png": "[encoded data removed]",
            "text/plain": [
              "<Figure size 432x288 with 1 Axes>"
            ]
          },
          "metadata": {
            "needs_background": "light"
          },
          "output_type": "display_data"
        },
        {
          "data": {
            "image/png": "[encoded data removed]",
            "text/plain": [
              "<Figure size 432x288 with 1 Axes>"
            ]
          },
          "metadata": {
            "needs_background": "light"
          },
          "output_type": "display_data"
        }
      ],
      "source": [
        "plot_learningCurve(history, epochs)"
      ]
    },
    {
      "cell_type": "markdown",
      "metadata": {
        "id": "XQ9OZ8nAFty7"
      },
      "source": [
        "2) epochs = 40"
      ]
    },
    {
      "cell_type": "code",
      "execution_count": null,
      "metadata": {
        "id": "RsgSRlyrPZP1"
      },
      "outputs": [],
      "source": [
        "epochs = 40\n",
        "model = Sequential()\n",
        "model.add(Conv1D(filters=32, kernel_size=2, activation='relu', input_shape = (30,1)))\n",
        "model.add(BatchNormalization())\n",
        "model.add(Dropout(0.2))\n",
        "\n",
        "model.add(Conv1D(filters=64, kernel_size=2, activation='relu'))\n",
        "model.add(BatchNormalization())\n",
        "model.add(Dropout(0.5))\n",
        "\n",
        "model.add(Flatten())\n",
        "model.add(Dense(64, activation='relu'))\n",
        "model.add(Dropout(0.5))\n",
        "\n",
        "model.add(Dense(1, activation='sigmoid'))"
      ]
    },
    {
      "cell_type": "code",
      "execution_count": null,
      "metadata": {
        "id": "IJ_mq7f2PjVO"
      },
      "outputs": [],
      "source": [
        "model.compile(optimizer=Adam(learning_rate=0.00005), loss = 'binary_crossentropy', metrics=['accuracy'])"
      ]
    },
    {
      "cell_type": "code",
      "execution_count": null,
      "metadata": {
        "colab": {
          "base_uri": "https://localhost:8080/"
        },
        "id": "4Pfn5zAHPnDb",
        "outputId": "eddde732-2787-4cec-aef5-ae00f1f7ceed"
      },
      "outputs": [
        {
          "name": "stdout",
          "output_type": "stream",
          "text": [
            "Epoch 1/40\n",
            "15/15 [==============================] - 5s 48ms/step - loss: 0.8844 - accuracy: 0.6110 - val_loss: 0.6567 - val_accuracy: 0.8333\n",
            "Epoch 2/40\n",
            "15/15 [==============================] - 1s 36ms/step - loss: 0.6398 - accuracy: 0.7275 - val_loss: 0.6160 - val_accuracy: 0.9123\n",
            "Epoch 3/40\n",
            "15/15 [==============================] - 0s 31ms/step - loss: 0.5615 - accuracy: 0.7780 - val_loss: 0.5769 - val_accuracy: 0.9298\n",
            "Epoch 4/40\n",
            "15/15 [==============================] - 1s 36ms/step - loss: 0.4320 - accuracy: 0.8066 - val_loss: 0.5416 - val_accuracy: 0.9298\n",
            "Epoch 5/40\n",
            "15/15 [==============================] - 1s 34ms/step - loss: 0.3739 - accuracy: 0.8484 - val_loss: 0.5083 - val_accuracy: 0.9035\n",
            "Epoch 6/40\n",
            "15/15 [==============================] - 1s 49ms/step - loss: 0.3283 - accuracy: 0.8659 - val_loss: 0.4767 - val_accuracy: 0.8947\n",
            "Epoch 7/40\n",
            "15/15 [==============================] - 1s 46ms/step - loss: 0.3076 - accuracy: 0.8901 - val_loss: 0.4482 - val_accuracy: 0.8860\n",
            "Epoch 8/40\n",
            "15/15 [==============================] - 1s 36ms/step - loss: 0.2670 - accuracy: 0.8967 - val_loss: 0.4208 - val_accuracy: 0.8860\n",
            "Epoch 9/40\n",
            "15/15 [==============================] - 0s 24ms/step - loss: 0.3069 - accuracy: 0.8967 - val_loss: 0.3952 - val_accuracy: 0.8860\n",
            "Epoch 10/40\n",
            "15/15 [==============================] - 0s 26ms/step - loss: 0.2317 - accuracy: 0.9077 - val_loss: 0.3702 - val_accuracy: 0.8860\n",
            "Epoch 11/40\n",
            "15/15 [==============================] - 0s 14ms/step - loss: 0.2712 - accuracy: 0.9011 - val_loss: 0.3461 - val_accuracy: 0.8860\n",
            "Epoch 12/40\n",
            "15/15 [==============================] - 0s 13ms/step - loss: 0.2346 - accuracy: 0.9055 - val_loss: 0.3263 - val_accuracy: 0.8860\n",
            "Epoch 13/40\n",
            "15/15 [==============================] - 0s 13ms/step - loss: 0.2218 - accuracy: 0.9011 - val_loss: 0.3038 - val_accuracy: 0.9123\n",
            "Epoch 14/40\n",
            "15/15 [==============================] - 0s 14ms/step - loss: 0.1972 - accuracy: 0.9363 - val_loss: 0.2831 - val_accuracy: 0.9211\n",
            "Epoch 15/40\n",
            "15/15 [==============================] - 0s 13ms/step - loss: 0.2022 - accuracy: 0.9187 - val_loss: 0.2632 - val_accuracy: 0.9386\n",
            "Epoch 16/40\n",
            "15/15 [==============================] - 0s 13ms/step - loss: 0.1808 - accuracy: 0.9297 - val_loss: 0.2432 - val_accuracy: 0.9386\n",
            "Epoch 17/40\n",
            "15/15 [==============================] - 0s 13ms/step - loss: 0.1791 - accuracy: 0.9231 - val_loss: 0.2253 - val_accuracy: 0.9386\n",
            "Epoch 18/40\n",
            "15/15 [==============================] - 0s 13ms/step - loss: 0.1803 - accuracy: 0.9385 - val_loss: 0.2083 - val_accuracy: 0.9474\n",
            "Epoch 19/40\n",
            "15/15 [==============================] - 0s 13ms/step - loss: 0.2025 - accuracy: 0.9209 - val_loss: 0.1931 - val_accuracy: 0.9561\n",
            "Epoch 20/40\n",
            "15/15 [==============================] - 0s 13ms/step - loss: 0.1747 - accuracy: 0.9319 - val_loss: 0.1822 - val_accuracy: 0.9561\n",
            "Epoch 21/40\n",
            "15/15 [==============================] - 0s 14ms/step - loss: 0.1974 - accuracy: 0.9209 - val_loss: 0.1715 - val_accuracy: 0.9561\n",
            "Epoch 22/40\n",
            "15/15 [==============================] - 0s 12ms/step - loss: 0.1540 - accuracy: 0.9319 - val_loss: 0.1617 - val_accuracy: 0.9561\n",
            "Epoch 23/40\n",
            "15/15 [==============================] - 0s 14ms/step - loss: 0.1503 - accuracy: 0.9451 - val_loss: 0.1537 - val_accuracy: 0.9561\n",
            "Epoch 24/40\n",
            "15/15 [==============================] - 0s 12ms/step - loss: 0.1674 - accuracy: 0.9429 - val_loss: 0.1465 - val_accuracy: 0.9561\n",
            "Epoch 25/40\n",
            "15/15 [==============================] - 0s 12ms/step - loss: 0.1484 - accuracy: 0.9451 - val_loss: 0.1409 - val_accuracy: 0.9737\n",
            "Epoch 26/40\n",
            "15/15 [==============================] - 0s 13ms/step - loss: 0.1428 - accuracy: 0.9473 - val_loss: 0.1368 - val_accuracy: 0.9737\n",
            "Epoch 27/40\n",
            "15/15 [==============================] - 0s 12ms/step - loss: 0.1745 - accuracy: 0.9341 - val_loss: 0.1330 - val_accuracy: 0.9649\n",
            "Epoch 28/40\n",
            "15/15 [==============================] - 0s 14ms/step - loss: 0.1469 - accuracy: 0.9341 - val_loss: 0.1315 - val_accuracy: 0.9649\n",
            "Epoch 29/40\n",
            "15/15 [==============================] - 0s 12ms/step - loss: 0.1490 - accuracy: 0.9451 - val_loss: 0.1298 - val_accuracy: 0.9561\n",
            "Epoch 30/40\n",
            "15/15 [==============================] - 0s 13ms/step - loss: 0.1017 - accuracy: 0.9604 - val_loss: 0.1274 - val_accuracy: 0.9561\n",
            "Epoch 31/40\n",
            "15/15 [==============================] - 0s 12ms/step - loss: 0.1416 - accuracy: 0.9495 - val_loss: 0.1264 - val_accuracy: 0.9561\n",
            "Epoch 32/40\n",
            "15/15 [==============================] - 0s 13ms/step - loss: 0.1579 - accuracy: 0.9363 - val_loss: 0.1256 - val_accuracy: 0.9561\n",
            "Epoch 33/40\n",
            "15/15 [==============================] - 0s 13ms/step - loss: 0.1033 - accuracy: 0.9604 - val_loss: 0.1239 - val_accuracy: 0.9561\n",
            "Epoch 34/40\n",
            "15/15 [==============================] - 0s 12ms/step - loss: 0.1312 - accuracy: 0.9451 - val_loss: 0.1218 - val_accuracy: 0.9561\n",
            "Epoch 35/40\n",
            "15/15 [==============================] - 0s 12ms/step - loss: 0.1217 - accuracy: 0.9560 - val_loss: 0.1209 - val_accuracy: 0.9561\n",
            "Epoch 36/40\n",
            "15/15 [==============================] - 0s 12ms/step - loss: 0.1564 - accuracy: 0.9473 - val_loss: 0.1206 - val_accuracy: 0.9561\n",
            "Epoch 37/40\n",
            "15/15 [==============================] - 0s 13ms/step - loss: 0.1178 - accuracy: 0.9451 - val_loss: 0.1215 - val_accuracy: 0.9561\n",
            "Epoch 38/40\n",
            "15/15 [==============================] - 0s 15ms/step - loss: 0.1143 - accuracy: 0.9538 - val_loss: 0.1205 - val_accuracy: 0.9561\n",
            "Epoch 39/40\n",
            "15/15 [==============================] - 0s 13ms/step - loss: 0.1329 - accuracy: 0.9604 - val_loss: 0.1203 - val_accuracy: 0.9561\n",
            "Epoch 40/40\n",
            "15/15 [==============================] - 0s 13ms/step - loss: 0.0933 - accuracy: 0.9604 - val_loss: 0.1215 - val_accuracy: 0.9561\n"
          ]
        }
      ],
      "source": [
        "history = model.fit(x_train, y_train, epochs=epochs, validation_data=(x_test, y_test), verbose=1)"
      ]
    },
    {
      "cell_type": "code",
      "execution_count": null,
      "metadata": {
        "id": "-815zLn8Prao"
      },
      "outputs": [],
      "source": [
        "def plot_learningCurve(history, epoch):\n",
        "  # Plot training & validation accuracy values\n",
        "  epoch_range = range(1, epoch+1)\n",
        "  plt.plot(epoch_range, history.history['accuracy'])\n",
        "  plt.plot(epoch_range, history.history['val_accuracy'])\n",
        "  plt.title('Model accuracy')\n",
        "  plt.ylabel('Accuracy')\n",
        "  plt.xlabel('Epoch')\n",
        "  plt.legend(['Train', 'Val'], loc='upper left')\n",
        "  plt.show()\n",
        "\n",
        "  # Plot training & validation loss values\n",
        "  plt.plot(epoch_range, history.history['loss'])\n",
        "  plt.plot(epoch_range, history.history['val_loss'])\n",
        "  plt.title('Model loss')\n",
        "  plt.ylabel('Loss')\n",
        "  plt.xlabel('Epoch')\n",
        "  plt.legend(['Train', 'Val'], loc='upper left')\n",
        "  plt.show()"
      ]
    },
    {
      "cell_type": "code",
      "execution_count": null,
      "metadata": {
        "colab": {
          "base_uri": "https://localhost:8080/",
          "height": 573
        },
        "id": "_tG1LVhuP0Hp",
        "outputId": "06daa883-0fb3-421a-b062-ad8971fda559"
      },
      "outputs": [
        {
          "data": {
            "image/png": "[encoded data removed]",
            "text/plain": [
              "<Figure size 432x288 with 1 Axes>"
            ]
          },
          "metadata": {
            "needs_background": "light"
          },
          "output_type": "display_data"
        },
        {
          "data": {
            "image/png": "[encoded data removed]",
            "text/plain": [
              "<Figure size 432x288 with 1 Axes>"
            ]
          },
          "metadata": {
            "needs_background": "light"
          },
          "output_type": "display_data"
        }
      ],
      "source": [
        "plot_learningCurve(history, epochs)"
      ]
    },
    {
      "cell_type": "markdown",
      "metadata": {
        "id": "RL0KZRKYF0ZY"
      },
      "source": [
        "3)epochs=45"
      ]
    },
    {
      "cell_type": "code",
      "execution_count": null,
      "metadata": {
        "id": "SmxDLbvdP0lL"
      },
      "outputs": [],
      "source": [
        "epochs = 45\n",
        "model = Sequential()\n",
        "model.add(Conv1D(filters=32, kernel_size=2, activation='relu', input_shape = (30,1)))\n",
        "model.add(BatchNormalization())\n",
        "model.add(Dropout(0.2))\n",
        "\n",
        "model.add(Conv1D(filters=64, kernel_size=2, activation='relu'))\n",
        "model.add(BatchNormalization())\n",
        "model.add(Dropout(0.5))\n",
        "\n",
        "model.add(Flatten())\n",
        "model.add(Dense(64, activation='relu'))\n",
        "model.add(Dropout(0.5))\n",
        "\n",
        "model.add(Dense(1, activation='sigmoid'))"
      ]
    },
    {
      "cell_type": "code",
      "execution_count": null,
      "metadata": {
        "id": "onjxfNe5QAV6"
      },
      "outputs": [],
      "source": [
        "model.compile(optimizer=Adam(learning_rate=0.00005), loss = 'binary_crossentropy', metrics=['accuracy'])"
      ]
    },
    {
      "cell_type": "code",
      "execution_count": null,
      "metadata": {
        "colab": {
          "base_uri": "https://localhost:8080/"
        },
        "id": "pWgS1hiFQEX0",
        "outputId": "6d921a23-033d-4996-fe9e-3b926a63fab8"
      },
      "outputs": [
        {
          "name": "stdout",
          "output_type": "stream",
          "text": [
            "Epoch 1/45\n",
            "15/15 [==============================] - 3s 43ms/step - loss: 0.8759 - accuracy: 0.5978 - val_loss: 0.6550 - val_accuracy: 0.7632\n",
            "Epoch 2/45\n",
            "15/15 [==============================] - 0s 20ms/step - loss: 0.6580 - accuracy: 0.7121 - val_loss: 0.6092 - val_accuracy: 0.8947\n",
            "Epoch 3/45\n",
            "15/15 [==============================] - 0s 21ms/step - loss: 0.5077 - accuracy: 0.7736 - val_loss: 0.5648 - val_accuracy: 0.9211\n",
            "Epoch 4/45\n",
            "15/15 [==============================] - 0s 21ms/step - loss: 0.4406 - accuracy: 0.8242 - val_loss: 0.5263 - val_accuracy: 0.9211\n",
            "Epoch 5/45\n",
            "15/15 [==============================] - 0s 19ms/step - loss: 0.3830 - accuracy: 0.8308 - val_loss: 0.4905 - val_accuracy: 0.9386\n",
            "Epoch 6/45\n",
            "15/15 [==============================] - 0s 21ms/step - loss: 0.3268 - accuracy: 0.8505 - val_loss: 0.4548 - val_accuracy: 0.9386\n",
            "Epoch 7/45\n",
            "15/15 [==============================] - 0s 22ms/step - loss: 0.3148 - accuracy: 0.8835 - val_loss: 0.4166 - val_accuracy: 0.9386\n",
            "Epoch 8/45\n",
            "15/15 [==============================] - 0s 21ms/step - loss: 0.2420 - accuracy: 0.8967 - val_loss: 0.3820 - val_accuracy: 0.9474\n",
            "Epoch 9/45\n",
            "15/15 [==============================] - 0s 13ms/step - loss: 0.2844 - accuracy: 0.8835 - val_loss: 0.3518 - val_accuracy: 0.9474\n",
            "Epoch 10/45\n",
            "15/15 [==============================] - 0s 12ms/step - loss: 0.2461 - accuracy: 0.9011 - val_loss: 0.3236 - val_accuracy: 0.9474\n",
            "Epoch 11/45\n",
            "15/15 [==============================] - 0s 13ms/step - loss: 0.2396 - accuracy: 0.9143 - val_loss: 0.2988 - val_accuracy: 0.9474\n",
            "Epoch 12/45\n",
            "15/15 [==============================] - 0s 13ms/step - loss: 0.2021 - accuracy: 0.9297 - val_loss: 0.2739 - val_accuracy: 0.9474\n",
            "Epoch 13/45\n",
            "15/15 [==============================] - 0s 13ms/step - loss: 0.2239 - accuracy: 0.9121 - val_loss: 0.2528 - val_accuracy: 0.9474\n",
            "Epoch 14/45\n",
            "15/15 [==============================] - 0s 14ms/step - loss: 0.2353 - accuracy: 0.9165 - val_loss: 0.2336 - val_accuracy: 0.9474\n",
            "Epoch 15/45\n",
            "15/15 [==============================] - 0s 13ms/step - loss: 0.1753 - accuracy: 0.9297 - val_loss: 0.2164 - val_accuracy: 0.9474\n",
            "Epoch 16/45\n",
            "15/15 [==============================] - 0s 15ms/step - loss: 0.1716 - accuracy: 0.9275 - val_loss: 0.2012 - val_accuracy: 0.9474\n",
            "Epoch 17/45\n",
            "15/15 [==============================] - 0s 14ms/step - loss: 0.1976 - accuracy: 0.9297 - val_loss: 0.1877 - val_accuracy: 0.9474\n",
            "Epoch 18/45\n",
            "15/15 [==============================] - 0s 12ms/step - loss: 0.1849 - accuracy: 0.9341 - val_loss: 0.1790 - val_accuracy: 0.9386\n",
            "Epoch 19/45\n",
            "15/15 [==============================] - 0s 14ms/step - loss: 0.1748 - accuracy: 0.9363 - val_loss: 0.1711 - val_accuracy: 0.9386\n",
            "Epoch 20/45\n",
            "15/15 [==============================] - 0s 14ms/step - loss: 0.1718 - accuracy: 0.9341 - val_loss: 0.1635 - val_accuracy: 0.9386\n",
            "Epoch 21/45\n",
            "15/15 [==============================] - 0s 13ms/step - loss: 0.1591 - accuracy: 0.9385 - val_loss: 0.1577 - val_accuracy: 0.9474\n",
            "Epoch 22/45\n",
            "15/15 [==============================] - 0s 14ms/step - loss: 0.1315 - accuracy: 0.9538 - val_loss: 0.1518 - val_accuracy: 0.9474\n",
            "Epoch 23/45\n",
            "15/15 [==============================] - 0s 13ms/step - loss: 0.1740 - accuracy: 0.9275 - val_loss: 0.1448 - val_accuracy: 0.9474\n",
            "Epoch 24/45\n",
            "15/15 [==============================] - 0s 13ms/step - loss: 0.1379 - accuracy: 0.9473 - val_loss: 0.1405 - val_accuracy: 0.9474\n",
            "Epoch 25/45\n",
            "15/15 [==============================] - 0s 12ms/step - loss: 0.1360 - accuracy: 0.9516 - val_loss: 0.1377 - val_accuracy: 0.9474\n",
            "Epoch 26/45\n",
            "15/15 [==============================] - 0s 14ms/step - loss: 0.1266 - accuracy: 0.9451 - val_loss: 0.1374 - val_accuracy: 0.9474\n",
            "Epoch 27/45\n",
            "15/15 [==============================] - 0s 14ms/step - loss: 0.1201 - accuracy: 0.9407 - val_loss: 0.1371 - val_accuracy: 0.9474\n",
            "Epoch 28/45\n",
            "15/15 [==============================] - 0s 13ms/step - loss: 0.1315 - accuracy: 0.9495 - val_loss: 0.1352 - val_accuracy: 0.9474\n",
            "Epoch 29/45\n",
            "15/15 [==============================] - 0s 13ms/step - loss: 0.1233 - accuracy: 0.9495 - val_loss: 0.1340 - val_accuracy: 0.9474\n",
            "Epoch 30/45\n",
            "15/15 [==============================] - 0s 13ms/step - loss: 0.1318 - accuracy: 0.9560 - val_loss: 0.1328 - val_accuracy: 0.9474\n",
            "Epoch 31/45\n",
            "15/15 [==============================] - 0s 14ms/step - loss: 0.1409 - accuracy: 0.9516 - val_loss: 0.1299 - val_accuracy: 0.9474\n",
            "Epoch 32/45\n",
            "15/15 [==============================] - 0s 13ms/step - loss: 0.1317 - accuracy: 0.9538 - val_loss: 0.1274 - val_accuracy: 0.9474\n",
            "Epoch 33/45\n",
            "15/15 [==============================] - 0s 14ms/step - loss: 0.1159 - accuracy: 0.9516 - val_loss: 0.1256 - val_accuracy: 0.9474\n",
            "Epoch 34/45\n",
            "15/15 [==============================] - 0s 12ms/step - loss: 0.1203 - accuracy: 0.9495 - val_loss: 0.1235 - val_accuracy: 0.9561\n",
            "Epoch 35/45\n",
            "15/15 [==============================] - 0s 12ms/step - loss: 0.1313 - accuracy: 0.9451 - val_loss: 0.1209 - val_accuracy: 0.9649\n",
            "Epoch 36/45\n",
            "15/15 [==============================] - 0s 13ms/step - loss: 0.1090 - accuracy: 0.9538 - val_loss: 0.1207 - val_accuracy: 0.9649\n",
            "Epoch 37/45\n",
            "15/15 [==============================] - 0s 13ms/step - loss: 0.1186 - accuracy: 0.9538 - val_loss: 0.1214 - val_accuracy: 0.9649\n",
            "Epoch 38/45\n",
            "15/15 [==============================] - 0s 14ms/step - loss: 0.1159 - accuracy: 0.9560 - val_loss: 0.1200 - val_accuracy: 0.9649\n",
            "Epoch 39/45\n",
            "15/15 [==============================] - 0s 13ms/step - loss: 0.1100 - accuracy: 0.9538 - val_loss: 0.1196 - val_accuracy: 0.9649\n",
            "Epoch 40/45\n",
            "15/15 [==============================] - 0s 12ms/step - loss: 0.1383 - accuracy: 0.9341 - val_loss: 0.1191 - val_accuracy: 0.9649\n",
            "Epoch 41/45\n",
            "15/15 [==============================] - 0s 14ms/step - loss: 0.1031 - accuracy: 0.9648 - val_loss: 0.1194 - val_accuracy: 0.9649\n",
            "Epoch 42/45\n",
            "15/15 [==============================] - 0s 12ms/step - loss: 0.1041 - accuracy: 0.9648 - val_loss: 0.1179 - val_accuracy: 0.9649\n",
            "Epoch 43/45\n",
            "15/15 [==============================] - 0s 14ms/step - loss: 0.1247 - accuracy: 0.9560 - val_loss: 0.1166 - val_accuracy: 0.9649\n",
            "Epoch 44/45\n",
            "15/15 [==============================] - 0s 15ms/step - loss: 0.1138 - accuracy: 0.9495 - val_loss: 0.1175 - val_accuracy: 0.9649\n",
            "Epoch 45/45\n",
            "15/15 [==============================] - 0s 12ms/step - loss: 0.1136 - accuracy: 0.9429 - val_loss: 0.1178 - val_accuracy: 0.9649\n"
          ]
        }
      ],
      "source": [
        "history = model.fit(x_train, y_train, epochs=epochs, validation_data=(x_test, y_test), verbose=1)"
      ]
    },
    {
      "cell_type": "code",
      "execution_count": null,
      "metadata": {
        "colab": {
          "base_uri": "https://localhost:8080/",
          "height": 573
        },
        "id": "l1naIw8eQICR",
        "outputId": "c330148a-afce-4992-8aed-1fed5dbb71de"
      },
      "outputs": [
        {
          "data": {
            "image/png": "[encoded data removed]",
            "text/plain": [
              "<Figure size 432x288 with 1 Axes>"
            ]
          },
          "metadata": {
            "needs_background": "light"
          },
          "output_type": "display_data"
        },
        {
          "data": {
            "image/png": "[encoded data removed]",
            "text/plain": [
              "<Figure size 432x288 with 1 Axes>"
            ]
          },
          "metadata": {
            "needs_background": "light"
          },
          "output_type": "display_data"
        }
      ],
      "source": [
        "plot_learningCurve(history, epochs)"
      ]
    },
    {
      "cell_type": "code",
      "execution_count": null,
      "metadata": {
        "id": "VAf8Rd-eUcLK"
      },
      "outputs": [],
      "source": []
    }
  ],
  "metadata": {
    "accelerator": "TPU",
    "colab": {
      "provenance": []
    },
    "gpuClass": "standard",
    "interpreter": {
      "hash": "82df0245f43e429881ac25656f7fd3716bf4eef805c2af8fbdb868c6392ecf0a"
    },
    "kernelspec": {
      "display_name": "Python 3.9.7 64-bit ('base': conda)",
      "name": "python3"
    },
    "language_info": {
      "name": "python",
      "version": "3.9.7"
    }
  },
  "nbformat": 4,
  "nbformat_minor": 0
}
