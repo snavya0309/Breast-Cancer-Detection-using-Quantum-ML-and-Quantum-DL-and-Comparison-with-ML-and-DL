{
  "cells": [
    {
      "cell_type": "code",
      "execution_count": 3,
      "metadata": {
        "id": "JiJvfQa9eMoP"
      },
      "outputs": [],
      "source": [
        "import numpy as np\n",
        "import matplotlib.pyplot as plt\n",
        "import pandas as pd\n",
        "import time"
      ]
    },
    {
      "cell_type": "code",
      "execution_count": 4,
      "metadata": {
        "id": "VXyvvjRVfb3N"
      },
      "outputs": [],
      "source": [
        "from sklearn.datasets import load_breast_cancer\n",
        "data = load_breast_cancer()"
      ]
    },
    {
      "cell_type": "code",
      "execution_count": 5,
      "metadata": {
        "id": "j1uuFNfjfsvs"
      },
      "outputs": [],
      "source": [
        "df = pd.DataFrame(data=data.data,columns=data.feature_names)\n",
        "df['target']=data.target"
      ]
    },
    {
      "cell_type": "code",
      "execution_count": 7,
      "metadata": {
        "id": "x6okUEucgOEk"
      },
      "outputs": [],
      "source": [
        "d = df\n",
        "x = d.drop(['target'],axis=1)\n",
        "y = d['target']"
      ]
    },
    {
      "cell_type": "code",
      "execution_count": 8,
      "metadata": {
        "id": "c7HqOAQSgg2v"
      },
      "outputs": [],
      "source": [
        "from sklearn.preprocessing import StandardScaler\n",
        "scaler = StandardScaler()\n",
        "x = pd.DataFrame(scaler.fit_transform(x),columns=x.columns)"
      ]
    },
    {
      "cell_type": "code",
      "execution_count": 9,
      "metadata": {
        "colab": {
          "base_uri": "https://localhost:8080/"
        },
        "id": "mcfPbLEGhEE0",
        "outputId": "676c753a-4e47-4d2d-88d0-1f89b06e5d42"
      },
      "outputs": [
        {
          "name": "stdout",
          "output_type": "stream",
          "text": [
            "[0.44272026 0.18971182 0.09393163 0.06602135]\n"
          ]
        }
      ],
      "source": [
        "from sklearn.decomposition import PCA\n",
        "pca = PCA(n_components=4)\n",
        "x = pca.fit_transform(x)\n",
        "print(pca.explained_variance_ratio_)\n"
      ]
    },
    {
      "cell_type": "code",
      "execution_count": 10,
      "metadata": {
        "id": "sxubJAv9htfy"
      },
      "outputs": [],
      "source": [
        "from sklearn.preprocessing import MinMaxScaler\n",
        "x = MinMaxScaler().fit_transform(x)"
      ]
    },
    {
      "cell_type": "code",
      "execution_count": 11,
      "metadata": {
        "colab": {
          "base_uri": "https://localhost:8080/"
        },
        "id": "Cw04c7pEibiF",
        "outputId": "4928a3b2-54ab-411c-9dc6-bc05f55a810a"
      },
      "outputs": [
        {
          "name": "stdout",
          "output_type": "stream",
          "text": [
            "Requirement already satisfied: qiskit in /Users/snavyasai/opt/anaconda3/lib/python3.9/site-packages (0.39.2)\n",
            "Requirement already satisfied: qiskit-aer==0.11.1 in /Users/snavyasai/opt/anaconda3/lib/python3.9/site-packages (from qiskit) (0.11.1)\n",
            "Requirement already satisfied: qiskit-ibmq-provider==0.19.2 in /Users/snavyasai/opt/anaconda3/lib/python3.9/site-packages (from qiskit) (0.19.2)\n",
            "Requirement already satisfied: qiskit-terra==0.22.2 in /Users/snavyasai/opt/anaconda3/lib/python3.9/site-packages (from qiskit) (0.22.2)\n",
            "Requirement already satisfied: numpy>=1.16.3 in /Users/snavyasai/opt/anaconda3/lib/python3.9/site-packages (from qiskit-aer==0.11.1->qiskit) (1.22.4)\n",
            "Requirement already satisfied: scipy>=1.0 in /Users/snavyasai/opt/anaconda3/lib/python3.9/site-packages (from qiskit-aer==0.11.1->qiskit) (1.7.1)\n",
            "Requirement already satisfied: websockets>=10.0 in /Users/snavyasai/opt/anaconda3/lib/python3.9/site-packages (from qiskit-ibmq-provider==0.19.2->qiskit) (10.4)\n",
            "Requirement already satisfied: requests>=2.19 in /Users/snavyasai/opt/anaconda3/lib/python3.9/site-packages (from qiskit-ibmq-provider==0.19.2->qiskit) (2.26.0)\n",
            "Requirement already satisfied: urllib3>=1.21.1 in /Users/snavyasai/opt/anaconda3/lib/python3.9/site-packages (from qiskit-ibmq-provider==0.19.2->qiskit) (1.26.7)\n",
            "Requirement already satisfied: requests-ntlm>=1.1.0 in /Users/snavyasai/opt/anaconda3/lib/python3.9/site-packages (from qiskit-ibmq-provider==0.19.2->qiskit) (1.1.0)\n",
            "Requirement already satisfied: websocket-client>=1.0.1 in /Users/snavyasai/opt/anaconda3/lib/python3.9/site-packages (from qiskit-ibmq-provider==0.19.2->qiskit) (1.4.2)\n",
            "Requirement already satisfied: python-dateutil>=2.8.0 in /Users/snavyasai/opt/anaconda3/lib/python3.9/site-packages (from qiskit-ibmq-provider==0.19.2->qiskit) (2.8.2)\n",
            "Requirement already satisfied: psutil>=5 in /Users/snavyasai/opt/anaconda3/lib/python3.9/site-packages (from qiskit-terra==0.22.2->qiskit) (5.8.0)\n",
            "Requirement already satisfied: sympy>=1.3 in /Users/snavyasai/opt/anaconda3/lib/python3.9/site-packages (from qiskit-terra==0.22.2->qiskit) (1.9)\n",
            "Requirement already satisfied: ply>=3.10 in /Users/snavyasai/opt/anaconda3/lib/python3.9/site-packages (from qiskit-terra==0.22.2->qiskit) (3.11)\n",
            "Requirement already satisfied: tweedledum<2.0,>=1.1 in /Users/snavyasai/opt/anaconda3/lib/python3.9/site-packages (from qiskit-terra==0.22.2->qiskit) (1.1.1)\n",
            "Requirement already satisfied: retworkx>=0.11.0 in /Users/snavyasai/opt/anaconda3/lib/python3.9/site-packages (from qiskit-terra==0.22.2->qiskit) (0.12.0)\n",
            "Requirement already satisfied: dill>=0.3 in /Users/snavyasai/opt/anaconda3/lib/python3.9/site-packages (from qiskit-terra==0.22.2->qiskit) (0.3.5.1)\n",
            "Requirement already satisfied: stevedore>=3.0.0 in /Users/snavyasai/opt/anaconda3/lib/python3.9/site-packages (from qiskit-terra==0.22.2->qiskit) (4.1.1)\n",
            "Requirement already satisfied: symengine>=0.9 in /Users/snavyasai/opt/anaconda3/lib/python3.9/site-packages (from qiskit-terra==0.22.2->qiskit) (0.9.2)\n",
            "Requirement already satisfied: six>=1.5 in /Users/snavyasai/opt/anaconda3/lib/python3.9/site-packages (from python-dateutil>=2.8.0->qiskit-ibmq-provider==0.19.2->qiskit) (1.16.0)\n",
            "Requirement already satisfied: charset-normalizer~=2.0.0 in /Users/snavyasai/opt/anaconda3/lib/python3.9/site-packages (from requests>=2.19->qiskit-ibmq-provider==0.19.2->qiskit) (2.0.4)\n",
            "Requirement already satisfied: certifi>=2017.4.17 in /Users/snavyasai/opt/anaconda3/lib/python3.9/site-packages (from requests>=2.19->qiskit-ibmq-provider==0.19.2->qiskit) (2021.10.8)\n",
            "Requirement already satisfied: idna<4,>=2.5 in /Users/snavyasai/opt/anaconda3/lib/python3.9/site-packages (from requests>=2.19->qiskit-ibmq-provider==0.19.2->qiskit) (3.2)\n",
            "Requirement already satisfied: cryptography>=1.3 in /Users/snavyasai/opt/anaconda3/lib/python3.9/site-packages (from requests-ntlm>=1.1.0->qiskit-ibmq-provider==0.19.2->qiskit) (3.4.8)\n",
            "Requirement already satisfied: ntlm-auth>=1.0.2 in /Users/snavyasai/opt/anaconda3/lib/python3.9/site-packages (from requests-ntlm>=1.1.0->qiskit-ibmq-provider==0.19.2->qiskit) (1.5.0)\n",
            "Requirement already satisfied: rustworkx==0.12.0 in /Users/snavyasai/opt/anaconda3/lib/python3.9/site-packages (from retworkx>=0.11.0->qiskit-terra==0.22.2->qiskit) (0.12.0)\n",
            "Requirement already satisfied: pbr!=2.1.0,>=2.0.0 in /Users/snavyasai/opt/anaconda3/lib/python3.9/site-packages (from stevedore>=3.0.0->qiskit-terra==0.22.2->qiskit) (5.11.0)\n",
            "Requirement already satisfied: mpmath>=0.19 in /Users/snavyasai/opt/anaconda3/lib/python3.9/site-packages (from sympy>=1.3->qiskit-terra==0.22.2->qiskit) (1.2.1)\n",
            "Requirement already satisfied: cffi>=1.12 in /Users/snavyasai/opt/anaconda3/lib/python3.9/site-packages (from cryptography>=1.3->requests-ntlm>=1.1.0->qiskit-ibmq-provider==0.19.2->qiskit) (1.14.6)\n",
            "Requirement already satisfied: pycparser in /Users/snavyasai/opt/anaconda3/lib/python3.9/site-packages (from cffi>=1.12->cryptography>=1.3->requests-ntlm>=1.1.0->qiskit-ibmq-provider==0.19.2->qiskit) (2.20)\n",
            "Note: you may need to restart the kernel to use updated packages.\n"
          ]
        }
      ],
      "source": [
        "pip install qiskit"
      ]
    },
    {
      "cell_type": "code",
      "execution_count": 12,
      "metadata": {
        "id": "yaeVgnmiiJCa"
      },
      "outputs": [],
      "source": [
        "from sklearn.model_selection import train_test_split\n",
        "from qiskit.utils import algorithm_globals"
      ]
    },
    {
      "cell_type": "code",
      "execution_count": 13,
      "metadata": {
        "id": "upLiKpnEimAu"
      },
      "outputs": [],
      "source": [
        "algorithm_globals.random_seed = 123\n",
        "train_features, test_features, train_labels, test_labels = train_test_split(x,y,train_size=0.8,random_state=algorithm_globals.random_seed)"
      ]
    },
    {
      "cell_type": "markdown",
      "metadata": {},
      "source": [
        "Implementation of classical SVC using 4 different kernels"
      ]
    },
    {
      "cell_type": "code",
      "execution_count": 14,
      "metadata": {
        "colab": {
          "base_uri": "https://localhost:8080/"
        },
        "id": "E7ggyXFQjBc7",
        "outputId": "1e38cc40-6fd5-4d1e-b198-89636d9e84c4"
      },
      "outputs": [
        {
          "name": "stdout",
          "output_type": "stream",
          "text": [
            "rbf kernel classification test score: 0.97\n",
            "linear kernel classification test score: 0.96\n",
            "poly kernel classification test score: 0.97\n",
            "sigmoid kernel classification test score: 0.64\n",
            "Training and testing time: 0.041116952896118164 seconds\n"
          ]
        }
      ],
      "source": [
        "import time\n",
        "from sklearn.svm import SVC\n",
        "classical_kernels = ['rbf','linear','poly','sigmoid']\n",
        "start = time.time()\n",
        "for kernel in classical_kernels:\n",
        "  classical_svc = SVC(kernel=kernel)\n",
        "  classical_svc.fit(train_features,train_labels)\n",
        "  classical_score = classical_svc.score(test_features,test_labels)\n",
        "  print(f'{kernel} kernel classification test score: {classical_score:.2f}')\n",
        "\n",
        "elapsed = time.time() - start\n",
        "print(f'Training and testing time: {elapsed} seconds')"
      ]
    },
    {
      "cell_type": "code",
      "execution_count": 15,
      "metadata": {
        "colab": {
          "base_uri": "https://localhost:8080/",
          "height": 1000
        },
        "id": "WtY79o36khuT",
        "outputId": "81a7c5e0-cfba-40b6-adef-709a41eb3440"
      },
      "outputs": [
        {
          "data": {
            "text/html": [
              "<pre style=\"word-wrap: normal;white-space: pre;background: #fff0;line-height: 1.1;font-family: &quot;Courier New&quot;,Courier,monospace\">     ┌───┐ ░ ┌─────────────┐                                               »\n",
              "q_0: ┤ H ├─░─┤ P(2.0*x[0]) ├──■────────────────────────────────────■───────»\n",
              "     ├───┤ ░ ├─────────────┤┌─┴─┐┌──────────────────────────────┐┌─┴─┐     »\n",
              "q_1: ┤ H ├─░─┤ P(2.0*x[1]) ├┤ X ├┤ P(2.0*(π - x[0])*(π - x[1])) ├┤ X ├──■──»\n",
              "     ├───┤ ░ ├─────────────┤└───┘└──────────────────────────────┘└───┘┌─┴─┐»\n",
              "q_2: ┤ H ├─░─┤ P(2.0*x[2]) ├──────────────────────────────────────────┤ X ├»\n",
              "     ├───┤ ░ ├─────────────┤                                          └───┘»\n",
              "q_3: ┤ H ├─░─┤ P(2.0*x[3]) ├───────────────────────────────────────────────»\n",
              "     └───┘ ░ └─────────────┘                                               »\n",
              "«                                               »\n",
              "«q_0: ──────────────────────────────────────────»\n",
              "«                                               »\n",
              "«q_1: ──────────────────────────────────■───────»\n",
              "«     ┌──────────────────────────────┐┌─┴─┐     »\n",
              "«q_2: ┤ P(2.0*(π - x[1])*(π - x[2])) ├┤ X ├──■──»\n",
              "«     └──────────────────────────────┘└───┘┌─┴─┐»\n",
              "«q_3: ─────────────────────────────────────┤ X ├»\n",
              "«                                          └───┘»\n",
              "«                                           ░ ┌───┐ ░ ┌─────────────┐     »\n",
              "«q_0: ──────────────────────────────────────░─┤ H ├─░─┤ P(2.0*x[0]) ├──■──»\n",
              "«                                           ░ ├───┤ ░ ├─────────────┤┌─┴─┐»\n",
              "«q_1: ──────────────────────────────────────░─┤ H ├─░─┤ P(2.0*x[1]) ├┤ X ├»\n",
              "«                                           ░ ├───┤ ░ ├─────────────┤└───┘»\n",
              "«q_2: ──────────────────────────────────■───░─┤ H ├─░─┤ P(2.0*x[2]) ├─────»\n",
              "«     ┌──────────────────────────────┐┌─┴─┐ ░ ├───┤ ░ ├─────────────┤     »\n",
              "«q_3: ┤ P(2.0*(π - x[2])*(π - x[3])) ├┤ X ├─░─┤ H ├─░─┤ P(2.0*x[3]) ├─────»\n",
              "«     └──────────────────────────────┘└───┘ ░ └───┘ ░ └─────────────┘     »\n",
              "«                                               »\n",
              "«q_0: ──────────────────────────────────■───────»\n",
              "«     ┌──────────────────────────────┐┌─┴─┐     »\n",
              "«q_1: ┤ P(2.0*(π - x[0])*(π - x[1])) ├┤ X ├──■──»\n",
              "«     └──────────────────────────────┘└───┘┌─┴─┐»\n",
              "«q_2: ─────────────────────────────────────┤ X ├»\n",
              "«                                          └───┘»\n",
              "«q_3: ──────────────────────────────────────────»\n",
              "«                                               »\n",
              "«                                               »\n",
              "«q_0: ──────────────────────────────────────────»\n",
              "«                                               »\n",
              "«q_1: ──────────────────────────────────■───────»\n",
              "«     ┌──────────────────────────────┐┌─┴─┐     »\n",
              "«q_2: ┤ P(2.0*(π - x[1])*(π - x[2])) ├┤ X ├──■──»\n",
              "«     └──────────────────────────────┘└───┘┌─┴─┐»\n",
              "«q_3: ─────────────────────────────────────┤ X ├»\n",
              "«                                          └───┘»\n",
              "«                                           ░ ┌───┐ ░ ┌─────────────┐     »\n",
              "«q_0: ──────────────────────────────────────░─┤ H ├─░─┤ P(2.0*x[0]) ├──■──»\n",
              "«                                           ░ ├───┤ ░ ├─────────────┤┌─┴─┐»\n",
              "«q_1: ──────────────────────────────────────░─┤ H ├─░─┤ P(2.0*x[1]) ├┤ X ├»\n",
              "«                                           ░ ├───┤ ░ ├─────────────┤└───┘»\n",
              "«q_2: ──────────────────────────────────■───░─┤ H ├─░─┤ P(2.0*x[2]) ├─────»\n",
              "«     ┌──────────────────────────────┐┌─┴─┐ ░ ├───┤ ░ ├─────────────┤     »\n",
              "«q_3: ┤ P(2.0*(π - x[2])*(π - x[3])) ├┤ X ├─░─┤ H ├─░─┤ P(2.0*x[3]) ├─────»\n",
              "«     └──────────────────────────────┘└───┘ ░ └───┘ ░ └─────────────┘     »\n",
              "«                                               »\n",
              "«q_0: ──────────────────────────────────■───────»\n",
              "«     ┌──────────────────────────────┐┌─┴─┐     »\n",
              "«q_1: ┤ P(2.0*(π - x[0])*(π - x[1])) ├┤ X ├──■──»\n",
              "«     └──────────────────────────────┘└───┘┌─┴─┐»\n",
              "«q_2: ─────────────────────────────────────┤ X ├»\n",
              "«                                          └───┘»\n",
              "«q_3: ──────────────────────────────────────────»\n",
              "«                                               »\n",
              "«                                               »\n",
              "«q_0: ──────────────────────────────────────────»\n",
              "«                                               »\n",
              "«q_1: ──────────────────────────────────■───────»\n",
              "«     ┌──────────────────────────────┐┌─┴─┐     »\n",
              "«q_2: ┤ P(2.0*(π - x[1])*(π - x[2])) ├┤ X ├──■──»\n",
              "«     └──────────────────────────────┘└───┘┌─┴─┐»\n",
              "«q_3: ─────────────────────────────────────┤ X ├»\n",
              "«                                          └───┘»\n",
              "«                                          \n",
              "«q_0: ─────────────────────────────────────\n",
              "«                                          \n",
              "«q_1: ─────────────────────────────────────\n",
              "«                                          \n",
              "«q_2: ──────────────────────────────────■──\n",
              "«     ┌──────────────────────────────┐┌─┴─┐\n",
              "«q_3: ┤ P(2.0*(π - x[2])*(π - x[3])) ├┤ X ├\n",
              "«     └──────────────────────────────┘└───┘</pre>"
            ],
            "text/plain": [
              "     ┌───┐ ░ ┌─────────────┐                                               »\n",
              "q_0: ┤ H ├─░─┤ P(2.0*x[0]) ├──■────────────────────────────────────■───────»\n",
              "     ├───┤ ░ ├─────────────┤┌─┴─┐┌──────────────────────────────┐┌─┴─┐     »\n",
              "q_1: ┤ H ├─░─┤ P(2.0*x[1]) ├┤ X ├┤ P(2.0*(π - x[0])*(π - x[1])) ├┤ X ├──■──»\n",
              "     ├───┤ ░ ├─────────────┤└───┘└──────────────────────────────┘└───┘┌─┴─┐»\n",
              "q_2: ┤ H ├─░─┤ P(2.0*x[2]) ├──────────────────────────────────────────┤ X ├»\n",
              "     ├───┤ ░ ├─────────────┤                                          └───┘»\n",
              "q_3: ┤ H ├─░─┤ P(2.0*x[3]) ├───────────────────────────────────────────────»\n",
              "     └───┘ ░ └─────────────┘                                               »\n",
              "«                                               »\n",
              "«q_0: ──────────────────────────────────────────»\n",
              "«                                               »\n",
              "«q_1: ──────────────────────────────────■───────»\n",
              "«     ┌──────────────────────────────┐┌─┴─┐     »\n",
              "«q_2: ┤ P(2.0*(π - x[1])*(π - x[2])) ├┤ X ├──■──»\n",
              "«     └──────────────────────────────┘└───┘┌─┴─┐»\n",
              "«q_3: ─────────────────────────────────────┤ X ├»\n",
              "«                                          └───┘»\n",
              "«                                           ░ ┌───┐ ░ ┌─────────────┐     »\n",
              "«q_0: ──────────────────────────────────────░─┤ H ├─░─┤ P(2.0*x[0]) ├──■──»\n",
              "«                                           ░ ├───┤ ░ ├─────────────┤┌─┴─┐»\n",
              "«q_1: ──────────────────────────────────────░─┤ H ├─░─┤ P(2.0*x[1]) ├┤ X ├»\n",
              "«                                           ░ ├───┤ ░ ├─────────────┤└───┘»\n",
              "«q_2: ──────────────────────────────────■───░─┤ H ├─░─┤ P(2.0*x[2]) ├─────»\n",
              "«     ┌──────────────────────────────┐┌─┴─┐ ░ ├───┤ ░ ├─────────────┤     »\n",
              "«q_3: ┤ P(2.0*(π - x[2])*(π - x[3])) ├┤ X ├─░─┤ H ├─░─┤ P(2.0*x[3]) ├─────»\n",
              "«     └──────────────────────────────┘└───┘ ░ └───┘ ░ └─────────────┘     »\n",
              "«                                               »\n",
              "«q_0: ──────────────────────────────────■───────»\n",
              "«     ┌──────────────────────────────┐┌─┴─┐     »\n",
              "«q_1: ┤ P(2.0*(π - x[0])*(π - x[1])) ├┤ X ├──■──»\n",
              "«     └──────────────────────────────┘└───┘┌─┴─┐»\n",
              "«q_2: ─────────────────────────────────────┤ X ├»\n",
              "«                                          └───┘»\n",
              "«q_3: ──────────────────────────────────────────»\n",
              "«                                               »\n",
              "«                                               »\n",
              "«q_0: ──────────────────────────────────────────»\n",
              "«                                               »\n",
              "«q_1: ──────────────────────────────────■───────»\n",
              "«     ┌──────────────────────────────┐┌─┴─┐     »\n",
              "«q_2: ┤ P(2.0*(π - x[1])*(π - x[2])) ├┤ X ├──■──»\n",
              "«     └──────────────────────────────┘└───┘┌─┴─┐»\n",
              "«q_3: ─────────────────────────────────────┤ X ├»\n",
              "«                                          └───┘»\n",
              "«                                           ░ ┌───┐ ░ ┌─────────────┐     »\n",
              "«q_0: ──────────────────────────────────────░─┤ H ├─░─┤ P(2.0*x[0]) ├──■──»\n",
              "«                                           ░ ├───┤ ░ ├─────────────┤┌─┴─┐»\n",
              "«q_1: ──────────────────────────────────────░─┤ H ├─░─┤ P(2.0*x[1]) ├┤ X ├»\n",
              "«                                           ░ ├───┤ ░ ├─────────────┤└───┘»\n",
              "«q_2: ──────────────────────────────────■───░─┤ H ├─░─┤ P(2.0*x[2]) ├─────»\n",
              "«     ┌──────────────────────────────┐┌─┴─┐ ░ ├───┤ ░ ├─────────────┤     »\n",
              "«q_3: ┤ P(2.0*(π - x[2])*(π - x[3])) ├┤ X ├─░─┤ H ├─░─┤ P(2.0*x[3]) ├─────»\n",
              "«     └──────────────────────────────┘└───┘ ░ └───┘ ░ └─────────────┘     »\n",
              "«                                               »\n",
              "«q_0: ──────────────────────────────────■───────»\n",
              "«     ┌──────────────────────────────┐┌─┴─┐     »\n",
              "«q_1: ┤ P(2.0*(π - x[0])*(π - x[1])) ├┤ X ├──■──»\n",
              "«     └──────────────────────────────┘└───┘┌─┴─┐»\n",
              "«q_2: ─────────────────────────────────────┤ X ├»\n",
              "«                                          └───┘»\n",
              "«q_3: ──────────────────────────────────────────»\n",
              "«                                               »\n",
              "«                                               »\n",
              "«q_0: ──────────────────────────────────────────»\n",
              "«                                               »\n",
              "«q_1: ──────────────────────────────────■───────»\n",
              "«     ┌──────────────────────────────┐┌─┴─┐     »\n",
              "«q_2: ┤ P(2.0*(π - x[1])*(π - x[2])) ├┤ X ├──■──»\n",
              "«     └──────────────────────────────┘└───┘┌─┴─┐»\n",
              "«q_3: ─────────────────────────────────────┤ X ├»\n",
              "«                                          └───┘»\n",
              "«                                          \n",
              "«q_0: ─────────────────────────────────────\n",
              "«                                          \n",
              "«q_1: ─────────────────────────────────────\n",
              "«                                          \n",
              "«q_2: ──────────────────────────────────■──\n",
              "«     ┌──────────────────────────────┐┌─┴─┐\n",
              "«q_3: ┤ P(2.0*(π - x[2])*(π - x[3])) ├┤ X ├\n",
              "«     └──────────────────────────────┘└───┘"
            ]
          },
          "execution_count": 15,
          "metadata": {},
          "output_type": "execute_result"
        }
      ],
      "source": [
        "from qiskit.circuit.library import ZZFeatureMap\n",
        "num_features = train_features.shape[1]\n",
        "feature_map = ZZFeatureMap(feature_dimension=num_features,reps=3,entanglement='linear',insert_barriers=True)\n",
        "feature_map.decompose().draw()"
      ]
    },
    {
      "cell_type": "markdown",
      "metadata": {},
      "source": [
        "Precomputing the kernel matrix method"
      ]
    },
    {
      "cell_type": "markdown",
      "metadata": {
        "id": "ix5KcILPtMIx"
      },
      "source": [
        "Execution on simulator"
      ]
    },
    {
      "cell_type": "code",
      "execution_count": 14,
      "metadata": {
        "id": "r3CaQSeblmj7"
      },
      "outputs": [],
      "source": [
        "from qiskit import Aer,execute\n",
        "backend = Aer.get_backend('qasm_simulator')"
      ]
    },
    {
      "cell_type": "code",
      "execution_count": 15,
      "metadata": {
        "colab": {
          "base_uri": "https://localhost:8080/"
        },
        "id": "jnmMcsUBoDnc",
        "outputId": "9c1f791c-e56a-4570-905f-9ecd74790342"
      },
      "outputs": [
        {
          "name": "stdout",
          "output_type": "stream",
          "text": [
            "Requirement already satisfied: qiskit[machine-learning] in /Users/snavyasai/opt/anaconda3/lib/python3.9/site-packages (0.39.2)\n",
            "Requirement already satisfied: qiskit-ibmq-provider==0.19.2 in /Users/snavyasai/opt/anaconda3/lib/python3.9/site-packages (from qiskit[machine-learning]) (0.19.2)\n",
            "Requirement already satisfied: qiskit-terra==0.22.2 in /Users/snavyasai/opt/anaconda3/lib/python3.9/site-packages (from qiskit[machine-learning]) (0.22.2)\n",
            "Requirement already satisfied: qiskit-aer==0.11.1 in /Users/snavyasai/opt/anaconda3/lib/python3.9/site-packages (from qiskit[machine-learning]) (0.11.1)\n",
            "Requirement already satisfied: qiskit-machine-learning>=0.4.0 in /Users/snavyasai/opt/anaconda3/lib/python3.9/site-packages (from qiskit[machine-learning]) (0.5.0)\n",
            "Requirement already satisfied: numpy>=1.16.3 in /Users/snavyasai/opt/anaconda3/lib/python3.9/site-packages (from qiskit-aer==0.11.1->qiskit[machine-learning]) (1.22.4)\n",
            "Requirement already satisfied: scipy>=1.0 in /Users/snavyasai/opt/anaconda3/lib/python3.9/site-packages (from qiskit-aer==0.11.1->qiskit[machine-learning]) (1.7.1)\n",
            "Requirement already satisfied: requests>=2.19 in /Users/snavyasai/opt/anaconda3/lib/python3.9/site-packages (from qiskit-ibmq-provider==0.19.2->qiskit[machine-learning]) (2.26.0)\n",
            "Requirement already satisfied: websockets>=10.0 in /Users/snavyasai/opt/anaconda3/lib/python3.9/site-packages (from qiskit-ibmq-provider==0.19.2->qiskit[machine-learning]) (10.4)\n",
            "Requirement already satisfied: urllib3>=1.21.1 in /Users/snavyasai/opt/anaconda3/lib/python3.9/site-packages (from qiskit-ibmq-provider==0.19.2->qiskit[machine-learning]) (1.26.7)\n",
            "Requirement already satisfied: python-dateutil>=2.8.0 in /Users/snavyasai/opt/anaconda3/lib/python3.9/site-packages (from qiskit-ibmq-provider==0.19.2->qiskit[machine-learning]) (2.8.2)\n",
            "Requirement already satisfied: websocket-client>=1.0.1 in /Users/snavyasai/opt/anaconda3/lib/python3.9/site-packages (from qiskit-ibmq-provider==0.19.2->qiskit[machine-learning]) (1.4.2)\n",
            "Requirement already satisfied: requests-ntlm>=1.1.0 in /Users/snavyasai/opt/anaconda3/lib/python3.9/site-packages (from qiskit-ibmq-provider==0.19.2->qiskit[machine-learning]) (1.1.0)\n",
            "Requirement already satisfied: retworkx>=0.11.0 in /Users/snavyasai/opt/anaconda3/lib/python3.9/site-packages (from qiskit-terra==0.22.2->qiskit[machine-learning]) (0.12.0)\n",
            "Requirement already satisfied: dill>=0.3 in /Users/snavyasai/opt/anaconda3/lib/python3.9/site-packages (from qiskit-terra==0.22.2->qiskit[machine-learning]) (0.3.5.1)\n",
            "Requirement already satisfied: symengine>=0.9 in /Users/snavyasai/opt/anaconda3/lib/python3.9/site-packages (from qiskit-terra==0.22.2->qiskit[machine-learning]) (0.9.2)\n",
            "Requirement already satisfied: stevedore>=3.0.0 in /Users/snavyasai/opt/anaconda3/lib/python3.9/site-packages (from qiskit-terra==0.22.2->qiskit[machine-learning]) (4.1.1)\n",
            "Requirement already satisfied: psutil>=5 in /Users/snavyasai/opt/anaconda3/lib/python3.9/site-packages (from qiskit-terra==0.22.2->qiskit[machine-learning]) (5.8.0)\n",
            "Requirement already satisfied: tweedledum<2.0,>=1.1 in /Users/snavyasai/opt/anaconda3/lib/python3.9/site-packages (from qiskit-terra==0.22.2->qiskit[machine-learning]) (1.1.1)\n",
            "Requirement already satisfied: ply>=3.10 in /Users/snavyasai/opt/anaconda3/lib/python3.9/site-packages (from qiskit-terra==0.22.2->qiskit[machine-learning]) (3.11)\n",
            "Requirement already satisfied: sympy>=1.3 in /Users/snavyasai/opt/anaconda3/lib/python3.9/site-packages (from qiskit-terra==0.22.2->qiskit[machine-learning]) (1.9)\n",
            "Requirement already satisfied: fastdtw in /Users/snavyasai/opt/anaconda3/lib/python3.9/site-packages (from qiskit-machine-learning>=0.4.0->qiskit[machine-learning]) (0.3.4)\n",
            "Requirement already satisfied: setuptools>=40.1.0 in /Users/snavyasai/opt/anaconda3/lib/python3.9/site-packages (from qiskit-machine-learning>=0.4.0->qiskit[machine-learning]) (65.3.0)\n",
            "Requirement already satisfied: scikit-learn>=0.20.0 in /Users/snavyasai/opt/anaconda3/lib/python3.9/site-packages (from qiskit-machine-learning>=0.4.0->qiskit[machine-learning]) (0.24.2)\n",
            "Requirement already satisfied: six>=1.5 in /Users/snavyasai/opt/anaconda3/lib/python3.9/site-packages (from python-dateutil>=2.8.0->qiskit-ibmq-provider==0.19.2->qiskit[machine-learning]) (1.16.0)\n",
            "Requirement already satisfied: certifi>=2017.4.17 in /Users/snavyasai/opt/anaconda3/lib/python3.9/site-packages (from requests>=2.19->qiskit-ibmq-provider==0.19.2->qiskit[machine-learning]) (2021.10.8)\n",
            "Requirement already satisfied: idna<4,>=2.5 in /Users/snavyasai/opt/anaconda3/lib/python3.9/site-packages (from requests>=2.19->qiskit-ibmq-provider==0.19.2->qiskit[machine-learning]) (3.2)\n",
            "Requirement already satisfied: charset-normalizer~=2.0.0 in /Users/snavyasai/opt/anaconda3/lib/python3.9/site-packages (from requests>=2.19->qiskit-ibmq-provider==0.19.2->qiskit[machine-learning]) (2.0.4)\n",
            "Requirement already satisfied: ntlm-auth>=1.0.2 in /Users/snavyasai/opt/anaconda3/lib/python3.9/site-packages (from requests-ntlm>=1.1.0->qiskit-ibmq-provider==0.19.2->qiskit[machine-learning]) (1.5.0)\n",
            "Requirement already satisfied: cryptography>=1.3 in /Users/snavyasai/opt/anaconda3/lib/python3.9/site-packages (from requests-ntlm>=1.1.0->qiskit-ibmq-provider==0.19.2->qiskit[machine-learning]) (3.4.8)\n",
            "Requirement already satisfied: rustworkx==0.12.0 in /Users/snavyasai/opt/anaconda3/lib/python3.9/site-packages (from retworkx>=0.11.0->qiskit-terra==0.22.2->qiskit[machine-learning]) (0.12.0)\n",
            "Requirement already satisfied: joblib>=0.11 in /Users/snavyasai/opt/anaconda3/lib/python3.9/site-packages (from scikit-learn>=0.20.0->qiskit-machine-learning>=0.4.0->qiskit[machine-learning]) (1.1.0)\n",
            "Requirement already satisfied: threadpoolctl>=2.0.0 in /Users/snavyasai/opt/anaconda3/lib/python3.9/site-packages (from scikit-learn>=0.20.0->qiskit-machine-learning>=0.4.0->qiskit[machine-learning]) (2.2.0)\n",
            "Requirement already satisfied: pbr!=2.1.0,>=2.0.0 in /Users/snavyasai/opt/anaconda3/lib/python3.9/site-packages (from stevedore>=3.0.0->qiskit-terra==0.22.2->qiskit[machine-learning]) (5.11.0)\n",
            "Requirement already satisfied: mpmath>=0.19 in /Users/snavyasai/opt/anaconda3/lib/python3.9/site-packages (from sympy>=1.3->qiskit-terra==0.22.2->qiskit[machine-learning]) (1.2.1)\n",
            "Requirement already satisfied: cffi>=1.12 in /Users/snavyasai/opt/anaconda3/lib/python3.9/site-packages (from cryptography>=1.3->requests-ntlm>=1.1.0->qiskit-ibmq-provider==0.19.2->qiskit[machine-learning]) (1.14.6)\n",
            "Requirement already satisfied: pycparser in /Users/snavyasai/opt/anaconda3/lib/python3.9/site-packages (from cffi>=1.12->cryptography>=1.3->requests-ntlm>=1.1.0->qiskit-ibmq-provider==0.19.2->qiskit[machine-learning]) (2.20)\n",
            "Note: you may need to restart the kernel to use updated packages.\n"
          ]
        }
      ],
      "source": [
        "pip install 'qiskit[machine-learning]'"
      ]
    },
    {
      "cell_type": "markdown",
      "metadata": {},
      "source": [
        "Precomputing the kernel matrix method"
      ]
    },
    {
      "cell_type": "code",
      "execution_count": 16,
      "metadata": {
        "id": "u5-waV9anw0j"
      },
      "outputs": [],
      "source": [
        "from qiskit_machine_learning.kernels import QuantumKernel\n",
        "quantum_kernel = QuantumKernel(feature_map=feature_map,quantum_instance=backend)"
      ]
    },
    {
      "cell_type": "code",
      "execution_count": 18,
      "metadata": {
        "colab": {
          "base_uri": "https://localhost:8080/"
        },
        "id": "858b7maYX0TG",
        "outputId": "44c0dc2e-4188-481d-b620-f2c988dedfe2"
      },
      "outputs": [
        {
          "name": "stdout",
          "output_type": "stream",
          "text": [
            "Quantum kernel classification test score: 0.9385964912280702\n",
            "896.2105422019958\n"
          ]
        }
      ],
      "source": [
        "import time\n",
        "start = time.time()\n",
        "matrix_train = quantum_kernel.evaluate(x_vec=train_features)\n",
        "matrix_test = quantum_kernel.evaluate(x_vec=test_features,y_vec=train_features)\n",
        "quantum_svc = SVC(kernel='precomputed')\n",
        "quantum_svc.fit(matrix_train,train_labels)\n",
        "quantum_score = quantum_svc.score(matrix_test,test_labels)\n",
        "print(f'Quantum kernel classification test score: {quantum_score}')\n",
        "end = time.time()\n",
        "print(end - start)"
      ]
    },
    {
      "cell_type": "markdown",
      "metadata": {
        "id": "UNUgwaa118G_"
      },
      "source": [
        "Providing the kernel as a callable function method"
      ]
    },
    {
      "cell_type": "markdown",
      "metadata": {
        "id": "MbvWiW7o2Kmm"
      },
      "source": [
        "Execution on simulator"
      ]
    },
    {
      "cell_type": "code",
      "execution_count": 17,
      "metadata": {
        "id": "Hw3aXXkm6OyY"
      },
      "outputs": [],
      "source": [
        "from qiskit import Aer,execute\n",
        "backend = Aer.get_backend('qasm_simulator')"
      ]
    },
    {
      "cell_type": "code",
      "execution_count": 18,
      "metadata": {
        "id": "xcySaqnX6Php"
      },
      "outputs": [],
      "source": [
        "from qiskit_machine_learning.kernels import QuantumKernel\n",
        "quantum_kernel = QuantumKernel(feature_map=feature_map,quantum_instance=backend)"
      ]
    },
    {
      "cell_type": "code",
      "execution_count": 19,
      "metadata": {
        "id": "vyxLa78w6Uac"
      },
      "outputs": [
        {
          "name": "stdout",
          "output_type": "stream",
          "text": [
            "Callable quantum kernel classification test score: 0.9385964912280702\n",
            "893.5581231117249\n"
          ]
        }
      ],
      "source": [
        "import time\n",
        "start = time.time()\n",
        "quantum_svc = SVC(kernel=quantum_kernel.evaluate)\n",
        "quantum_svc.fit(train_features,train_labels)\n",
        "quantum_score = quantum_svc.score(test_features,test_labels)\n",
        "print(f'Callable quantum kernel classification test score: {quantum_score}')\n",
        "end = time.time()\n",
        "print(end-start)"
      ]
    }
  ],
  "metadata": {
    "accelerator": "TPU",
    "colab": {
      "provenance": []
    },
    "gpuClass": "standard",
    "interpreter": {
      "hash": "82df0245f43e429881ac25656f7fd3716bf4eef805c2af8fbdb868c6392ecf0a"
    },
    "kernelspec": {
      "display_name": "Python 3.9.7 64-bit ('base': conda)",
      "name": "python3"
    },
    "language_info": {
      "codemirror_mode": {
        "name": "ipython",
        "version": 3
      },
      "file_extension": ".py",
      "mimetype": "text/x-python",
      "name": "python",
      "nbconvert_exporter": "python",
      "pygments_lexer": "ipython3",
      "version": "3.9.7"
    }
  },
  "nbformat": 4,
  "nbformat_minor": 0
}
